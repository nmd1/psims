{
 "metadata": {
  "language_info": {
   "codemirror_mode": {
    "name": "ipython",
    "version": 3
   },
   "file_extension": ".py",
   "mimetype": "text/x-python",
   "name": "python",
   "nbconvert_exporter": "python",
   "pygments_lexer": "ipython3",
   "version": "3.7.10"
  },
  "orig_nbformat": 2,
  "kernelspec": {
   "name": "python3",
   "display_name": "Python 3.7.10 64-bit ('.env': virtualenv)",
   "metadata": {
    "interpreter": {
     "hash": "ab77953d2b80b377b77e223505c3cb4deceb684005c675f7db473b1260448a81"
    }
   }
  }
 },
 "nbformat": 4,
 "nbformat_minor": 2,
 "cells": [
  {
   "cell_type": "code",
   "execution_count": 1,
   "metadata": {},
   "outputs": [],
   "source": [
    "from yahooquery import Ticker"
   ]
  },
  {
   "cell_type": "code",
   "execution_count": 3,
   "metadata": {},
   "outputs": [],
   "source": [
    "tickers = Ticker('aapl')"
   ]
  },
  {
   "cell_type": "code",
   "execution_count": 4,
   "metadata": {},
   "outputs": [
    {
     "output_type": "stream",
     "name": "stdout",
     "text": [
      "<yahooquery.ticker.Ticker object at 0x7f9d85f4dbd0>\n"
     ]
    }
   ],
   "source": [
    "print(tickers)"
   ]
  },
  {
   "cell_type": "code",
   "execution_count": 19,
   "metadata": {},
   "outputs": [
    {
     "output_type": "execute_result",
     "data": {
      "text/plain": [
       "{'aapl': {'maxAge': 1,\n",
       "  'priceHint': 2,\n",
       "  'previousClose': 120.59,\n",
       "  'open': 120.35,\n",
       "  'dayLow': 119.48,\n",
       "  'dayHigh': 121.08,\n",
       "  'regularMarketPreviousClose': 120.59,\n",
       "  'regularMarketOpen': 120.35,\n",
       "  'regularMarketDayLow': 119.48,\n",
       "  'regularMarketDayHigh': 121.08,\n",
       "  'dividendRate': 0.82,\n",
       "  'dividendYield': 0.0068,\n",
       "  'exDividendDate': '2021-02-04 19:00:00',\n",
       "  'payoutRatio': 0.2177,\n",
       "  'fiveYearAvgDividendYield': 1.42,\n",
       "  'beta': 1.251354,\n",
       "  'trailingPE': 32.59021,\n",
       "  'forwardPE': 25.675236,\n",
       "  'volume': 49271046,\n",
       "  'regularMarketVolume': 49271046,\n",
       "  'averageVolume': 111166327,\n",
       "  'averageVolume10days': 115879612,\n",
       "  'averageDailyVolume10Day': 115879612,\n",
       "  'bid': 120.53,\n",
       "  'ask': 120.54,\n",
       "  'bidSize': 800,\n",
       "  'askSize': 1400,\n",
       "  'marketCap': 2017259814912,\n",
       "  'fiftyTwoWeekLow': 59.225,\n",
       "  'fiftyTwoWeekHigh': 145.09,\n",
       "  'priceToSalesTrailing12Months': 6.8582788,\n",
       "  'fiftyDayAverage': 126.12629,\n",
       "  'twoHundredDayAverage': 122.85072,\n",
       "  'trailingAnnualDividendRate': 0.807,\n",
       "  'trailingAnnualDividendYield': 0.006692097,\n",
       "  'currency': 'USD',\n",
       "  'fromCurrency': None,\n",
       "  'toCurrency': None,\n",
       "  'lastMarket': None,\n",
       "  'algorithm': None,\n",
       "  'tradeable': False}}"
      ]
     },
     "metadata": {},
     "execution_count": 19
    }
   ],
   "source": [
    "tickers.summary_detail"
   ]
  },
  {
   "cell_type": "code",
   "execution_count": 27,
   "metadata": {},
   "outputs": [],
   "source": [
    "import numpy as np\n",
    "import tensorflow as tf\n",
    "import scipy as sci\n",
    "import matplotlib.pyplot as plt"
   ]
  },
  {
   "cell_type": "code",
   "execution_count": 40,
   "metadata": {},
   "outputs": [
    {
     "output_type": "stream",
     "name": "stdout",
     "text": [
      "129.41000366210938 --> 131.00999450683594\n[ 1. -1.  1.  1. -1. -1.  1. -1. -1.  1.  1.  1.  1.  1.  1. -1. -1. -1.\n  1.  1. -1.  1. -1.  1. -1. -1. -1.  1. -1. -1. -1.  1. -1. -1. -1. -1.\n  1.  1. -1. -1. -1.  1. -1.  1. -1.  1. -1.  1.  1. -1. -1. -1.  1. -1.\n -1.  1. -1.]\n"
     ]
    }
   ],
   "source": [
    "# Generate Data\n",
    "\n",
    "yq_data = tickers.history(period='ytd', interval='1d')\n",
    "prices = np.array(yq_data[\"close\"])\n",
    "delta = []\n",
    "next_price = None\n",
    "for price in yq_data[\"close\"]:\n",
    "    if(next_price): delta.append(price - next_price)\n",
    "    next_price = price\n",
    "\n",
    "delta = np.array(delta)\n",
    "abs_delta = delta / abs(delta)\n",
    "\n",
    "print(prices[0], \"-->\", prices[1])\n",
    "print(delta)\n"
   ]
  },
  {
   "cell_type": "code",
   "execution_count": null,
   "metadata": {},
   "outputs": [],
   "source": []
  },
  {
   "cell_type": "code",
   "execution_count": null,
   "metadata": {},
   "outputs": [],
   "source": [
    "mar_budget    = np.array([60, 80,  100  , 30, 50, 20, 90,  10],  dtype=float)\n",
    "subs_gained = np.array([160, 200, 240, 100, 140, 80, 220, 60],  dtype=float)\n"
   ]
  }
 ]
}