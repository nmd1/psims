{
 "metadata": {
  "language_info": {
   "codemirror_mode": {
    "name": "ipython",
    "version": 3
   },
   "file_extension": ".py",
   "mimetype": "text/x-python",
   "name": "python",
   "nbconvert_exporter": "python",
   "pygments_lexer": "ipython3",
   "version": "3.7.10"
  },
  "orig_nbformat": 2,
  "kernelspec": {
   "name": "python3",
   "display_name": "Python 3.7.10 64-bit ('.env': virtualenv)",
   "metadata": {
    "interpreter": {
     "hash": "5ca6fa80bd5ca9c56a128fc706a9f7951099ea8898da709271b53d13c8937bc6"
    }
   }
  }
 },
 "nbformat": 4,
 "nbformat_minor": 2,
 "cells": [
  {
   "cell_type": "code",
   "execution_count": 13,
   "metadata": {},
   "outputs": [],
   "source": [
    "import numpy as np\n",
    "import scipy as sci\n",
    "import matplotlib.pyplot as plt\n",
    "import pandas as pd\n",
    "import tensorflow as tf\n",
    "from stock2 import getAndProcessFinancialDataJSON, getStockTickers\n",
    "from stock3 import getAndProcessMultiFinancialDataJSON\n",
    "from keras.models import Sequential\n",
    "from keras.layers import Dense\n",
    "from keras.layers import LSTM\n",
    "\n",
    "from sklearn.preprocessing import MinMaxScaler\n",
    "from sklearn.metrics import mean_squared_error"
   ]
  },
  {
   "cell_type": "code",
   "execution_count": 88,
   "metadata": {},
   "outputs": [
    {
     "output_type": "stream",
     "name": "stdout",
     "text": [
      "Loading data using URL [ https://query1.finance.yahoo.com/v8/finance/chart/AMD?interval=2m&range=1mo ]\n",
      "['AMD']\n",
      "Data size:  4288\n"
     ]
    }
   ],
   "source": [
    "# Get stock data from the internet\n",
    "\n",
    "# Get 20 random tickers from NYSE\n",
    "tickers = getStockTickers(20)\n",
    "#tickers = [\"AMD\", \"GME\", \"AMC\", \"TSLA\", \"ZM\", \"FLO\", \"SQ\", \"GPS\", \"VTRS\", \"LNC\", \"NRG\"]\n",
    "tickers = [\"AMD\"]\n",
    "# get stock data from those tickers\n",
    "X_raw,y_raw = getAndProcessMultiFinancialDataJSON(tickers,look_fwd=2, interval=\"2m\", rge=\"1mo\")\n",
    "\n",
    "#X_raw,y_raw = getAndProcessFinancialDataJSON(\"AMD\",look_fwd=2)\n",
    "#unix_time = getAndProcessFinancialDataJSON(tickers[0],justTimes=True)\n",
    "print(tickers)\n",
    "print(\"Data size: \",len(X_raw))"
   ]
  },
  {
   "cell_type": "code",
   "execution_count": 89,
   "metadata": {},
   "outputs": [],
   "source": [
    "X_raw_numpy = X_raw.to_numpy()\n",
    "y_raw_numpy = y_raw.to_numpy()"
   ]
  },
  {
   "cell_type": "code",
   "execution_count": 90,
   "metadata": {
    "tags": []
   },
   "outputs": [
    {
     "output_type": "stream",
     "name": "stdout",
     "text": [
      "original size: 4288\nelements to delete: 0\nresulting size: 4288\nresult+delete size: 4288\n"
     ]
    }
   ],
   "source": [
    "# clean data\n",
    "delete_list = []\n",
    "for i in range(len(X_raw_numpy)):\n",
    "    if(y_raw_numpy[i] == None):\n",
    "        delete_list.append(i)\n",
    "    for j in range(len(X_raw_numpy[0])):\n",
    "        if(X_raw_numpy[i][j] == None):\n",
    "            delete_list.append(i)\n",
    "X_clean = np.delete(X_raw_numpy, delete_list, 0)\n",
    "y_clean = np.delete(y_raw_numpy, delete_list, 0)\n",
    "# np.isnan(y_raw[i])\n",
    "\n",
    "print(\"original size:\",len(y_raw))\n",
    "print(\"elements to delete:\",len(delete_list))\n",
    "print(\"resulting size:\",len(y_clean))\n",
    "print(\"result+delete size:\",len(y_clean) + len(delete_list))"
   ]
  },
  {
   "cell_type": "code",
   "execution_count": 91,
   "metadata": {},
   "outputs": [
    {
     "output_type": "stream",
     "name": "stdout",
     "text": [
      "[['83.1238021850586' '82.9000015258789']\n ['82.9000015258789' '82.99649810791016']\n ['82.99649810791016' '82.77999877929688']\n ...\n ['78.74500274658203' '78.75499725341797']\n ['78.75499725341797' '78.77999877929688']\n ['78.77999877929688' '78.78500366210938']]\n[['82.99649810791016']\n ['82.77999877929688']\n ['82.95999908447266']\n ...\n ['78.77999877929688']\n ['78.78500366210938']\n ['78.80000305175781']]\n4288\n4288\n"
     ]
    }
   ],
   "source": [
    "print(X_clean)\n",
    "print(y_clean)\n",
    "print(len(X_clean))\n",
    "print(len(y_clean))"
   ]
  },
  {
   "cell_type": "code",
   "execution_count": 92,
   "metadata": {},
   "outputs": [],
   "source": [
    "# Split into train, validate, and test sets\n",
    "size = len(X_clean)\n",
    "\n",
    "# Get test size and data\n",
    "total_train_size = (size*8)//10\n",
    "test_size = size - total_train_size\n",
    "\n",
    "X_total_train_unnorm = X_clean[:total_train_size]\n",
    "y_total_train_unnorm = y_clean[:total_train_size]\n",
    "\n",
    "X_test_unnorm = X_clean[total_train_size:]\n",
    "y_test_unnorm = y_clean[total_train_size:]\n",
    "\n",
    "# Get train and validation size and data\n",
    "train_size = (total_train_size*8)//10\n",
    "val_size = total_train_size - train_size\n",
    "\n",
    "X_train_unnorm = X_total_train_unnorm[:train_size]\n",
    "y_train_unnorm = y_total_train_unnorm[:train_size]\n",
    "\n",
    "X_val_unnorm = X_total_train_unnorm[train_size:]\n",
    "y_val_unnorm = y_total_train_unnorm[train_size:]\n",
    "\n"
   ]
  },
  {
   "cell_type": "code",
   "execution_count": 93,
   "metadata": {},
   "outputs": [
    {
     "output_type": "stream",
     "name": "stdout",
     "text": [
      "3430\n2744\n686\n858\n\n3430\n2744\n686\n858\n\n3430\n2744\n686\n858\n"
     ]
    }
   ],
   "source": [
    "print(total_train_size)\n",
    "print(train_size)\n",
    "print(val_size)\n",
    "print(test_size)\n",
    "print()\n",
    "print(len(X_total_train_unnorm))\n",
    "print(len(X_train_unnorm))\n",
    "print(len(X_val_unnorm))\n",
    "print(len(X_test_unnorm))\n",
    "print()\n",
    "print(len(y_total_train_unnorm))\n",
    "print(len(y_train_unnorm))\n",
    "print(len(y_val_unnorm))\n",
    "print(len(y_test_unnorm))"
   ]
  },
  {
   "cell_type": "code",
   "execution_count": 162,
   "metadata": {},
   "outputs": [],
   "source": [
    "# Scale between 0 and 1, best for LSTM models\n",
    "scaler = MinMaxScaler(feature_range=(0, 1))\n",
    "X_train_norm = scaler.fit_transform(X_train_unnorm)\n",
    "y_train_norm = scaler.fit_transform(y_train_unnorm)\n",
    "\n",
    "X_val_norm = scaler.fit_transform(X_val_unnorm)\n",
    "y_val_norm = scaler.fit_transform(y_val_unnorm)\n",
    "\n",
    "X_test_norm = scaler.fit_transform(X_test_unnorm)\n",
    "y_test_norm = scaler.fit_transform(y_test_unnorm)"
   ]
  },
  {
   "cell_type": "code",
   "execution_count": 177,
   "metadata": {},
   "outputs": [],
   "source": [
    "# LSTM also needs to adhere to this shape\n",
    "X =      np.reshape(X_train_norm, (     X_train_norm.shape[0],  -1, X_train_norm.shape[1]))\n",
    "X_val =  np.reshape(X_val_norm,   (     X_val_norm.shape[0],    -1, X_val_norm.shape[1]))\n",
    "X_test = np.reshape(X_test_norm,  (     X_test_norm.shape[0],   -1, X_test_norm.shape[1]))\n",
    "y =      np.reshape(y_train_norm, (     y_train_norm.shape[0],  -1, y_train_norm.shape[1]))  # y_train_norm  \n",
    "y_val =  np.reshape(y_val_norm,   (     y_val_norm.shape[0],    -1, y_val_norm.shape[1]))    # y_val_norm\n",
    "y_test = np.reshape(y_test_norm,  (     y_test_norm.shape[0],   -1, y_test_norm.shape[1]))   # y_test_norm  "
   ]
  },
  {
   "cell_type": "code",
   "execution_count": null,
   "metadata": {},
   "outputs": [],
   "source": [
    "\n"
   ]
  },
  {
   "cell_type": "code",
   "execution_count": null,
   "metadata": {},
   "outputs": [],
   "source": []
  },
  {
   "cell_type": "code",
   "execution_count": 178,
   "metadata": {},
   "outputs": [
    {
     "output_type": "stream",
     "name": "stdout",
     "text": [
      "[[0.47683322 0.45598547]]\n[[0.46497444]]\n2744\n2744\n"
     ]
    }
   ],
   "source": [
    "# Prints for sanity\n",
    "print(X[0])\n",
    "print(y[0])\n",
    "\n",
    "\n",
    "print(len(X))\n",
    "print(len(y))\n"
   ]
  },
  {
   "cell_type": "code",
   "execution_count": 179,
   "metadata": {},
   "outputs": [
    {
     "output_type": "stream",
     "name": "stdout",
     "text": [
      "(2744, 2)\n",
      "Model: \"sequential_43\"\n",
      "_________________________________________________________________\n",
      "Layer (type)                 Output Shape              Param #   \n",
      "=================================================================\n",
      "lstm_61 (LSTM)               (None, 2744, 4)           112       \n",
      "_________________________________________________________________\n",
      "lstm_62 (LSTM)               (None, 2744, 4)           144       \n",
      "_________________________________________________________________\n",
      "lstm_63 (LSTM)               (None, 4)                 144       \n",
      "_________________________________________________________________\n",
      "dense_54 (Dense)             (None, 64)                320       \n",
      "_________________________________________________________________\n",
      "dense_55 (Dense)             (None, 1)                 65        \n",
      "=================================================================\n",
      "Total params: 785\n",
      "Trainable params: 785\n",
      "Non-trainable params: 0\n",
      "_________________________________________________________________\n"
     ]
    }
   ],
   "source": [
    "# create the LSTM model\n",
    "input_shape = (X.shape[0],  2)\n",
    "print(input_shape)\n",
    "model = Sequential()\n",
    "\n",
    "# Shape = [# of elements, data per element (2)]\n",
    "model.add(LSTM(4, input_shape=input_shape, return_sequences=True)) #, return_sequences=True))\n",
    "model.add(LSTM(4, return_sequences=True))\n",
    "model.add(LSTM(4))\n",
    "model.add(Dense(64, activation='relu'))\n",
    "model.add(Dense(1))\n",
    "model.compile(loss='mean_squared_error', optimizer='adam',metrics=[\"accuracy\"])\n",
    "\n",
    "model.summary()"
   ]
  },
  {
   "cell_type": "code",
   "execution_count": 180,
   "metadata": {},
   "outputs": [
    {
     "output_type": "stream",
     "name": "stdout",
     "text": [
      "Epoch 1/100\n",
      "WARNING:tensorflow:Model was constructed with shape (None, 2744, 2) for input KerasTensor(type_spec=TensorSpec(shape=(None, 2744, 2), dtype=tf.float32, name='lstm_61_input'), name='lstm_61_input', description=\"created by layer 'lstm_61_input'\"), but it was called on an input with incompatible shape (None, 1, 2).\n",
      "WARNING:tensorflow:Model was constructed with shape (None, 2744, 2) for input KerasTensor(type_spec=TensorSpec(shape=(None, 2744, 2), dtype=tf.float32, name='lstm_61_input'), name='lstm_61_input', description=\"created by layer 'lstm_61_input'\"), but it was called on an input with incompatible shape (None, 1, 2).\n",
      "WARNING:tensorflow:Model was constructed with shape (None, 2744, 2) for input KerasTensor(type_spec=TensorSpec(shape=(None, 2744, 2), dtype=tf.float32, name='lstm_61_input'), name='lstm_61_input', description=\"created by layer 'lstm_61_input'\"), but it was called on an input with incompatible shape (None, 1, 2).\n",
      "86/86 - 3s - loss: 0.0716 - accuracy: 3.6443e-04 - val_loss: 0.0930 - val_accuracy: 0.0015\n",
      "Epoch 2/100\n",
      "86/86 - 0s - loss: 0.0378 - accuracy: 3.6443e-04 - val_loss: 0.0818 - val_accuracy: 0.0015\n",
      "Epoch 3/100\n",
      "86/86 - 0s - loss: 0.0178 - accuracy: 3.6443e-04 - val_loss: 9.9283e-04 - val_accuracy: 0.0029\n",
      "Epoch 4/100\n",
      "86/86 - 0s - loss: 2.9480e-04 - accuracy: 7.2886e-04 - val_loss: 5.7569e-04 - val_accuracy: 0.0029\n",
      "Epoch 5/100\n",
      "86/86 - 0s - loss: 2.3044e-04 - accuracy: 7.2886e-04 - val_loss: 7.2258e-04 - val_accuracy: 0.0029\n",
      "Epoch 6/100\n",
      "86/86 - 0s - loss: 2.1004e-04 - accuracy: 7.2886e-04 - val_loss: 6.2715e-04 - val_accuracy: 0.0029\n",
      "Epoch 7/100\n",
      "86/86 - 0s - loss: 2.0495e-04 - accuracy: 7.2886e-04 - val_loss: 5.3987e-04 - val_accuracy: 0.0029\n",
      "Epoch 8/100\n",
      "86/86 - 0s - loss: 2.0492e-04 - accuracy: 7.2886e-04 - val_loss: 5.4618e-04 - val_accuracy: 0.0029\n",
      "Epoch 9/100\n",
      "86/86 - 0s - loss: 2.0090e-04 - accuracy: 7.2886e-04 - val_loss: 5.6178e-04 - val_accuracy: 0.0029\n",
      "Epoch 10/100\n",
      "86/86 - 0s - loss: 2.0130e-04 - accuracy: 7.2886e-04 - val_loss: 6.0234e-04 - val_accuracy: 0.0029\n",
      "Epoch 11/100\n",
      "86/86 - 0s - loss: 2.0099e-04 - accuracy: 7.2886e-04 - val_loss: 5.3698e-04 - val_accuracy: 0.0029\n",
      "Epoch 12/100\n",
      "86/86 - 0s - loss: 1.9939e-04 - accuracy: 7.2886e-04 - val_loss: 6.5434e-04 - val_accuracy: 0.0029\n",
      "Epoch 13/100\n",
      "86/86 - 0s - loss: 1.9637e-04 - accuracy: 7.2886e-04 - val_loss: 7.6579e-04 - val_accuracy: 0.0029\n",
      "Epoch 14/100\n",
      "86/86 - 0s - loss: 1.9787e-04 - accuracy: 7.2886e-04 - val_loss: 6.4771e-04 - val_accuracy: 0.0029\n",
      "Epoch 15/100\n",
      "86/86 - 0s - loss: 2.0575e-04 - accuracy: 7.2886e-04 - val_loss: 7.8022e-04 - val_accuracy: 0.0029\n",
      "Epoch 16/100\n",
      "86/86 - 0s - loss: 1.9494e-04 - accuracy: 7.2886e-04 - val_loss: 8.6534e-04 - val_accuracy: 0.0029\n",
      "Epoch 17/100\n",
      "86/86 - 0s - loss: 1.9602e-04 - accuracy: 7.2886e-04 - val_loss: 8.2273e-04 - val_accuracy: 0.0029\n",
      "Epoch 18/100\n",
      "86/86 - 0s - loss: 2.0459e-04 - accuracy: 7.2886e-04 - val_loss: 8.2702e-04 - val_accuracy: 0.0029\n",
      "Epoch 19/100\n",
      "86/86 - 0s - loss: 1.9572e-04 - accuracy: 7.2886e-04 - val_loss: 6.3305e-04 - val_accuracy: 0.0029\n",
      "Epoch 20/100\n",
      "86/86 - 0s - loss: 1.9683e-04 - accuracy: 7.2886e-04 - val_loss: 6.4412e-04 - val_accuracy: 0.0029\n",
      "Epoch 21/100\n",
      "86/86 - 0s - loss: 1.9729e-04 - accuracy: 7.2886e-04 - val_loss: 9.4496e-04 - val_accuracy: 0.0029\n",
      "Epoch 22/100\n",
      "86/86 - 0s - loss: 1.9687e-04 - accuracy: 7.2886e-04 - val_loss: 7.3580e-04 - val_accuracy: 0.0029\n",
      "Epoch 23/100\n",
      "86/86 - 0s - loss: 1.9319e-04 - accuracy: 7.2886e-04 - val_loss: 5.6229e-04 - val_accuracy: 0.0029\n",
      "Epoch 24/100\n",
      "86/86 - 0s - loss: 2.0354e-04 - accuracy: 7.2886e-04 - val_loss: 8.8257e-04 - val_accuracy: 0.0029\n",
      "Epoch 25/100\n",
      "86/86 - 0s - loss: 2.0501e-04 - accuracy: 7.2886e-04 - val_loss: 5.3074e-04 - val_accuracy: 0.0029\n",
      "Epoch 26/100\n",
      "86/86 - 0s - loss: 2.1036e-04 - accuracy: 7.2886e-04 - val_loss: 4.8276e-04 - val_accuracy: 0.0029\n",
      "Epoch 27/100\n",
      "86/86 - 0s - loss: 2.0218e-04 - accuracy: 7.2886e-04 - val_loss: 7.7510e-04 - val_accuracy: 0.0029\n",
      "Epoch 28/100\n",
      "86/86 - 0s - loss: 1.9845e-04 - accuracy: 7.2886e-04 - val_loss: 7.5455e-04 - val_accuracy: 0.0029\n",
      "Epoch 29/100\n",
      "86/86 - 0s - loss: 1.9295e-04 - accuracy: 7.2886e-04 - val_loss: 6.1630e-04 - val_accuracy: 0.0029\n",
      "Epoch 30/100\n",
      "86/86 - 0s - loss: 1.9386e-04 - accuracy: 7.2886e-04 - val_loss: 4.9388e-04 - val_accuracy: 0.0029\n",
      "Epoch 31/100\n",
      "86/86 - 0s - loss: 1.9349e-04 - accuracy: 7.2886e-04 - val_loss: 6.3675e-04 - val_accuracy: 0.0029\n",
      "Epoch 32/100\n",
      "86/86 - 0s - loss: 1.9298e-04 - accuracy: 7.2886e-04 - val_loss: 6.7673e-04 - val_accuracy: 0.0029\n",
      "Epoch 33/100\n",
      "86/86 - 0s - loss: 1.9044e-04 - accuracy: 7.2886e-04 - val_loss: 6.5411e-04 - val_accuracy: 0.0029\n",
      "Epoch 34/100\n",
      "86/86 - 0s - loss: 2.0849e-04 - accuracy: 7.2886e-04 - val_loss: 6.7235e-04 - val_accuracy: 0.0029\n",
      "Epoch 35/100\n",
      "86/86 - 0s - loss: 1.9259e-04 - accuracy: 7.2886e-04 - val_loss: 6.2331e-04 - val_accuracy: 0.0029\n",
      "Epoch 36/100\n",
      "86/86 - 0s - loss: 1.9671e-04 - accuracy: 7.2886e-04 - val_loss: 6.2334e-04 - val_accuracy: 0.0029\n",
      "Epoch 37/100\n",
      "86/86 - 0s - loss: 1.8983e-04 - accuracy: 7.2886e-04 - val_loss: 4.9177e-04 - val_accuracy: 0.0029\n",
      "Epoch 38/100\n",
      "86/86 - 0s - loss: 2.1033e-04 - accuracy: 7.2886e-04 - val_loss: 9.1801e-04 - val_accuracy: 0.0029\n",
      "Epoch 39/100\n",
      "86/86 - 0s - loss: 1.9277e-04 - accuracy: 7.2886e-04 - val_loss: 5.1881e-04 - val_accuracy: 0.0029\n",
      "Epoch 40/100\n",
      "86/86 - 0s - loss: 1.9669e-04 - accuracy: 7.2886e-04 - val_loss: 6.5898e-04 - val_accuracy: 0.0029\n",
      "Epoch 41/100\n",
      "86/86 - 0s - loss: 1.8907e-04 - accuracy: 7.2886e-04 - val_loss: 8.6153e-04 - val_accuracy: 0.0029\n",
      "Epoch 42/100\n",
      "86/86 - 0s - loss: 1.8934e-04 - accuracy: 7.2886e-04 - val_loss: 6.9763e-04 - val_accuracy: 0.0029\n",
      "Epoch 43/100\n",
      "86/86 - 0s - loss: 1.9548e-04 - accuracy: 7.2886e-04 - val_loss: 5.3223e-04 - val_accuracy: 0.0029\n",
      "Epoch 44/100\n",
      "86/86 - 0s - loss: 1.9378e-04 - accuracy: 7.2886e-04 - val_loss: 5.5664e-04 - val_accuracy: 0.0029\n",
      "Epoch 45/100\n",
      "86/86 - 0s - loss: 2.0256e-04 - accuracy: 7.2886e-04 - val_loss: 7.4843e-04 - val_accuracy: 0.0029\n",
      "Epoch 46/100\n",
      "86/86 - 0s - loss: 2.0092e-04 - accuracy: 7.2886e-04 - val_loss: 4.3486e-04 - val_accuracy: 0.0029\n",
      "Epoch 47/100\n",
      "86/86 - 0s - loss: 1.9284e-04 - accuracy: 7.2886e-04 - val_loss: 5.0333e-04 - val_accuracy: 0.0029\n",
      "Epoch 48/100\n",
      "86/86 - 0s - loss: 1.9436e-04 - accuracy: 7.2886e-04 - val_loss: 6.6591e-04 - val_accuracy: 0.0029\n",
      "Epoch 49/100\n",
      "86/86 - 0s - loss: 1.9671e-04 - accuracy: 7.2886e-04 - val_loss: 4.4019e-04 - val_accuracy: 0.0029\n",
      "Epoch 50/100\n",
      "86/86 - 0s - loss: 1.8853e-04 - accuracy: 7.2886e-04 - val_loss: 5.5904e-04 - val_accuracy: 0.0029\n",
      "Epoch 51/100\n",
      "86/86 - 0s - loss: 1.9061e-04 - accuracy: 7.2886e-04 - val_loss: 8.3873e-04 - val_accuracy: 0.0029\n",
      "Epoch 52/100\n",
      "86/86 - 0s - loss: 1.9184e-04 - accuracy: 7.2886e-04 - val_loss: 5.5296e-04 - val_accuracy: 0.0029\n",
      "Epoch 53/100\n",
      "86/86 - 0s - loss: 1.9036e-04 - accuracy: 7.2886e-04 - val_loss: 5.5258e-04 - val_accuracy: 0.0029\n",
      "Epoch 54/100\n",
      "86/86 - 0s - loss: 1.8685e-04 - accuracy: 7.2886e-04 - val_loss: 6.0044e-04 - val_accuracy: 0.0029\n",
      "Epoch 55/100\n",
      "86/86 - 0s - loss: 1.8982e-04 - accuracy: 7.2886e-04 - val_loss: 4.3349e-04 - val_accuracy: 0.0029\n",
      "Epoch 56/100\n",
      "86/86 - 0s - loss: 2.0023e-04 - accuracy: 7.2886e-04 - val_loss: 6.0258e-04 - val_accuracy: 0.0029\n",
      "Epoch 57/100\n",
      "86/86 - 0s - loss: 1.9168e-04 - accuracy: 7.2886e-04 - val_loss: 5.3820e-04 - val_accuracy: 0.0029\n",
      "Epoch 58/100\n",
      "86/86 - 0s - loss: 1.8658e-04 - accuracy: 7.2886e-04 - val_loss: 6.1790e-04 - val_accuracy: 0.0029\n",
      "Epoch 59/100\n",
      "86/86 - 0s - loss: 2.0341e-04 - accuracy: 7.2886e-04 - val_loss: 7.3040e-04 - val_accuracy: 0.0029\n",
      "Epoch 60/100\n",
      "86/86 - 0s - loss: 1.8944e-04 - accuracy: 7.2886e-04 - val_loss: 5.7241e-04 - val_accuracy: 0.0029\n",
      "Epoch 61/100\n",
      "86/86 - 0s - loss: 1.9987e-04 - accuracy: 7.2886e-04 - val_loss: 8.6439e-04 - val_accuracy: 0.0029\n",
      "Epoch 62/100\n",
      "86/86 - 0s - loss: 2.1852e-04 - accuracy: 7.2886e-04 - val_loss: 4.0337e-04 - val_accuracy: 0.0029\n",
      "Epoch 63/100\n",
      "86/86 - 0s - loss: 1.9584e-04 - accuracy: 7.2886e-04 - val_loss: 5.2149e-04 - val_accuracy: 0.0029\n",
      "Epoch 64/100\n",
      "86/86 - 0s - loss: 1.9823e-04 - accuracy: 7.2886e-04 - val_loss: 5.1677e-04 - val_accuracy: 0.0029\n",
      "Epoch 65/100\n",
      "86/86 - 0s - loss: 1.9403e-04 - accuracy: 7.2886e-04 - val_loss: 6.1776e-04 - val_accuracy: 0.0029\n",
      "Epoch 66/100\n",
      "86/86 - 0s - loss: 1.8865e-04 - accuracy: 7.2886e-04 - val_loss: 4.6858e-04 - val_accuracy: 0.0029\n",
      "Epoch 67/100\n",
      "86/86 - 0s - loss: 1.9077e-04 - accuracy: 7.2886e-04 - val_loss: 6.1826e-04 - val_accuracy: 0.0029\n",
      "Epoch 68/100\n",
      "86/86 - 0s - loss: 1.9002e-04 - accuracy: 7.2886e-04 - val_loss: 4.1682e-04 - val_accuracy: 0.0029\n",
      "Epoch 69/100\n",
      "86/86 - 0s - loss: 1.9392e-04 - accuracy: 7.2886e-04 - val_loss: 8.2169e-04 - val_accuracy: 0.0029\n",
      "Epoch 70/100\n",
      "86/86 - 0s - loss: 1.9564e-04 - accuracy: 7.2886e-04 - val_loss: 8.4082e-04 - val_accuracy: 0.0029\n",
      "Epoch 71/100\n",
      "86/86 - 0s - loss: 1.8461e-04 - accuracy: 7.2886e-04 - val_loss: 5.4513e-04 - val_accuracy: 0.0029\n",
      "Epoch 72/100\n",
      "86/86 - 0s - loss: 1.8886e-04 - accuracy: 7.2886e-04 - val_loss: 9.3947e-04 - val_accuracy: 0.0029\n",
      "Epoch 73/100\n",
      "86/86 - 0s - loss: 1.8970e-04 - accuracy: 7.2886e-04 - val_loss: 5.8482e-04 - val_accuracy: 0.0029\n",
      "Epoch 74/100\n",
      "86/86 - 0s - loss: 1.8560e-04 - accuracy: 7.2886e-04 - val_loss: 5.4034e-04 - val_accuracy: 0.0029\n",
      "Epoch 75/100\n",
      "86/86 - 0s - loss: 1.9128e-04 - accuracy: 7.2886e-04 - val_loss: 7.7300e-04 - val_accuracy: 0.0029\n",
      "Epoch 76/100\n",
      "86/86 - 0s - loss: 1.8989e-04 - accuracy: 7.2886e-04 - val_loss: 4.1061e-04 - val_accuracy: 0.0029\n",
      "Epoch 77/100\n",
      "86/86 - 0s - loss: 2.0398e-04 - accuracy: 7.2886e-04 - val_loss: 7.6016e-04 - val_accuracy: 0.0029\n",
      "Epoch 78/100\n",
      "86/86 - 0s - loss: 1.9069e-04 - accuracy: 7.2886e-04 - val_loss: 4.1310e-04 - val_accuracy: 0.0029\n",
      "Epoch 79/100\n",
      "86/86 - 0s - loss: 2.2544e-04 - accuracy: 7.2886e-04 - val_loss: 5.9941e-04 - val_accuracy: 0.0029\n",
      "Epoch 80/100\n",
      "86/86 - 0s - loss: 1.8890e-04 - accuracy: 7.2886e-04 - val_loss: 4.8225e-04 - val_accuracy: 0.0029\n",
      "Epoch 81/100\n",
      "86/86 - 0s - loss: 1.9213e-04 - accuracy: 7.2886e-04 - val_loss: 6.5436e-04 - val_accuracy: 0.0029\n",
      "Epoch 82/100\n",
      "86/86 - 0s - loss: 1.9135e-04 - accuracy: 7.2886e-04 - val_loss: 8.1631e-04 - val_accuracy: 0.0029\n",
      "Epoch 83/100\n",
      "86/86 - 0s - loss: 1.8767e-04 - accuracy: 7.2886e-04 - val_loss: 4.5877e-04 - val_accuracy: 0.0029\n",
      "Epoch 84/100\n",
      "86/86 - 0s - loss: 1.8633e-04 - accuracy: 7.2886e-04 - val_loss: 5.5679e-04 - val_accuracy: 0.0029\n",
      "Epoch 85/100\n",
      "86/86 - 0s - loss: 1.9121e-04 - accuracy: 7.2886e-04 - val_loss: 5.1453e-04 - val_accuracy: 0.0029\n",
      "Epoch 86/100\n",
      "86/86 - 0s - loss: 1.9036e-04 - accuracy: 7.2886e-04 - val_loss: 4.9683e-04 - val_accuracy: 0.0029\n",
      "Epoch 87/100\n",
      "86/86 - 0s - loss: 1.8358e-04 - accuracy: 7.2886e-04 - val_loss: 4.6436e-04 - val_accuracy: 0.0029\n",
      "Epoch 88/100\n",
      "86/86 - 0s - loss: 1.8896e-04 - accuracy: 7.2886e-04 - val_loss: 5.4841e-04 - val_accuracy: 0.0029\n",
      "Epoch 89/100\n",
      "86/86 - 0s - loss: 1.8312e-04 - accuracy: 7.2886e-04 - val_loss: 5.7682e-04 - val_accuracy: 0.0029\n",
      "Epoch 90/100\n",
      "86/86 - 0s - loss: 1.8196e-04 - accuracy: 7.2886e-04 - val_loss: 4.4111e-04 - val_accuracy: 0.0029\n",
      "Epoch 91/100\n",
      "86/86 - 0s - loss: 1.9162e-04 - accuracy: 7.2886e-04 - val_loss: 4.5845e-04 - val_accuracy: 0.0029\n",
      "Epoch 92/100\n",
      "86/86 - 0s - loss: 1.8635e-04 - accuracy: 7.2886e-04 - val_loss: 7.0443e-04 - val_accuracy: 0.0029\n",
      "Epoch 93/100\n",
      "86/86 - 0s - loss: 1.8390e-04 - accuracy: 7.2886e-04 - val_loss: 7.2080e-04 - val_accuracy: 0.0029\n",
      "Epoch 94/100\n",
      "86/86 - 0s - loss: 1.8942e-04 - accuracy: 7.2886e-04 - val_loss: 7.3852e-04 - val_accuracy: 0.0029\n",
      "Epoch 95/100\n",
      "86/86 - 0s - loss: 1.9019e-04 - accuracy: 7.2886e-04 - val_loss: 6.2818e-04 - val_accuracy: 0.0029\n",
      "Epoch 96/100\n",
      "86/86 - 0s - loss: 1.9887e-04 - accuracy: 7.2886e-04 - val_loss: 6.2866e-04 - val_accuracy: 0.0029\n",
      "Epoch 97/100\n",
      "86/86 - 0s - loss: 1.9611e-04 - accuracy: 7.2886e-04 - val_loss: 7.0458e-04 - val_accuracy: 0.0029\n",
      "Epoch 98/100\n",
      "86/86 - 0s - loss: 1.9995e-04 - accuracy: 7.2886e-04 - val_loss: 6.3933e-04 - val_accuracy: 0.0029\n",
      "Epoch 99/100\n",
      "86/86 - 0s - loss: 1.8087e-04 - accuracy: 7.2886e-04 - val_loss: 4.5425e-04 - val_accuracy: 0.0029\n",
      "Epoch 100/100\n",
      "86/86 - 0s - loss: 2.0052e-04 - accuracy: 7.2886e-04 - val_loss: 5.2280e-04 - val_accuracy: 0.0029\n",
      "Done!\n"
     ]
    }
   ],
   "source": [
    "# Train\n",
    "history = model.fit(X, y, epochs=100, batch_size=32, verbose=2, validation_data=(X_val, y_val))\n",
    "print(\"Done!\")"
   ]
  },
  {
   "cell_type": "code",
   "execution_count": null,
   "metadata": {},
   "outputs": [],
   "source": [
    "# plot loss\n",
    "# plot accuracy"
   ]
  }
 ]
}