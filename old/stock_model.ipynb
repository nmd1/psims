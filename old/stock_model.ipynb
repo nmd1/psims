{
 "metadata": {
  "language_info": {
   "codemirror_mode": {
    "name": "ipython",
    "version": 3
   },
   "file_extension": ".py",
   "mimetype": "text/x-python",
   "name": "python",
   "nbconvert_exporter": "python",
   "pygments_lexer": "ipython3",
   "version": "3.7.10"
  },
  "orig_nbformat": 2,
  "kernelspec": {
   "name": "python3",
   "display_name": "Python 3.7.10 64-bit ('.env': virtualenv)",
   "metadata": {
    "interpreter": {
     "hash": "5ca6fa80bd5ca9c56a128fc706a9f7951099ea8898da709271b53d13c8937bc6"
    }
   }
  }
 },
 "nbformat": 4,
 "nbformat_minor": 2,
 "cells": [
  {
   "source": [
    "# Try to predict future stock price from just the previous stock price"
   ],
   "cell_type": "markdown",
   "metadata": {}
  },
  {
   "cell_type": "code",
   "execution_count": 62,
   "metadata": {},
   "outputs": [],
   "source": [
    "import numpy as np\n",
    "import scipy as sci\n",
    "import matplotlib.pyplot as plt\n",
    "import pandas as pd\n",
    "import tensorflow as tf\n",
    "from stock2 import getAndProcessFinancialDataJSON, getStockTickers\n",
    "from stock3 import getAndProcessMultiFinancialDataJSON\n",
    "from keras.models import Sequential\n",
    "from keras.optimizers import Adam\n",
    "from keras.layers import Dense, Dropout, LSTM\n",
    "\n",
    "from sklearn.preprocessing import MinMaxScaler\n",
    "from sklearn.metrics import mean_squared_error"
   ]
  },
  {
   "cell_type": "code",
   "execution_count": 2,
   "metadata": {},
   "outputs": [
    {
     "output_type": "stream",
     "name": "stdout",
     "text": [
      "Loading data using URL [ https://query1.finance.yahoo.com/v8/finance/chart/AMD?interval=2m&range=1mo ]\n",
      "Loading data using URL [ https://query1.finance.yahoo.com/v8/finance/chart/GME?interval=2m&range=1mo ]\n",
      "Loading data using URL [ https://query1.finance.yahoo.com/v8/finance/chart/AMC?interval=2m&range=1mo ]\n",
      "Loading data using URL [ https://query1.finance.yahoo.com/v8/finance/chart/TSLA?interval=2m&range=1mo ]\n",
      "Loading data using URL [ https://query1.finance.yahoo.com/v8/finance/chart/ZM?interval=2m&range=1mo ]\n",
      "Loading data using URL [ https://query1.finance.yahoo.com/v8/finance/chart/FLO?interval=2m&range=1mo ]\n",
      "Loading data using URL [ https://query1.finance.yahoo.com/v8/finance/chart/SQ?interval=2m&range=1mo ]\n",
      "Loading data using URL [ https://query1.finance.yahoo.com/v8/finance/chart/GPS?interval=2m&range=1mo ]\n",
      "Loading data using URL [ https://query1.finance.yahoo.com/v8/finance/chart/VTRS?interval=2m&range=1mo ]\n",
      "Loading data using URL [ https://query1.finance.yahoo.com/v8/finance/chart/LNC?interval=2m&range=1mo ]\n",
      "Loading data using URL [ https://query1.finance.yahoo.com/v8/finance/chart/NRG?interval=2m&range=1mo ]\n",
      "['AMD', 'GME', 'AMC', 'TSLA', 'ZM', 'FLO', 'SQ', 'GPS', 'VTRS', 'LNC', 'NRG']\n",
      "Data size:  47179\n"
     ]
    }
   ],
   "source": [
    "# Get stock data from the internet\n",
    "\n",
    "# Get 20 random tickers from NYSE\n",
    "tickers = getStockTickers(20)\n",
    "tickers = [\"AMD\", \"GME\", \"AMC\", \"TSLA\", \"ZM\", \"FLO\", \"SQ\", \"GPS\", \"VTRS\", \"LNC\", \"NRG\"]\n",
    "\n",
    "#tickers = [\"AMD\"]\n",
    "# get stock data from those tickers\n",
    "X_raw,y_raw = getAndProcessMultiFinancialDataJSON(tickers,look_fwd=1, interval=\"2m\", rge=\"1mo\")\n",
    "\n",
    "#X_raw,y_raw = getAndProcessFinancialDataJSON(\"AMD\",look_fwd=2)\n",
    "print(tickers)\n",
    "print(\"Data size: \",len(X_raw))"
   ]
  },
  {
   "cell_type": "code",
   "execution_count": 41,
   "metadata": {},
   "outputs": [
    {
     "output_type": "stream",
     "name": "stdout",
     "text": [
      "Loading data using URL [ https://query1.finance.yahoo.com/v8/finance/chart/AMD?interval=2m&range=1d ]\n[1620394200, 1620394320, 1620394440, 1620394560, 1620394680, 1620394800, 1620394920, 1620395040, 1620395160, 1620395280, 1620395400, 1620395520, 1620395640, 1620395760, 1620395880, 1620396000, 1620396120, 1620396240, 1620396360, 1620396480, 1620396600, 1620396720, 1620396840, 1620396960, 1620397080, 1620397200, 1620397320, 1620397440, 1620397560, 1620397680, 1620397800, 1620397920, 1620398040, 1620398160, 1620398280, 1620398400, 1620398520, 1620398640, 1620398760, 1620398880, 1620399000, 1620399120, 1620399240, 1620399360, 1620399480, 1620399600, 1620399720, 1620399840, 1620399960, 1620400080, 1620400200, 1620400320, 1620400440, 1620400560, 1620400680, 1620400800, 1620400920, 1620401040, 1620401160, 1620401280, 1620401400, 1620401520, 1620401640, 1620401760, 1620401880, 1620402000, 1620402120, 1620402240, 1620402360, 1620402480, 1620402600, 1620402720, 1620402840, 1620402960, 1620403080, 1620403200, 1620403320, 1620403440, 1620403560, 1620403680, 1620403800, 1620403920, 1620404040, 1620404160, 1620404280, 1620404400, 1620404520, 1620404640, 1620404760, 1620404880, 1620405000, 1620405120, 1620405240, 1620405360, 1620405480, 1620405600, 1620405720, 1620405840, 1620405960, 1620406080, 1620406200, 1620406320, 1620406440, 1620406560, 1620406680, 1620406800, 1620406920, 1620407040, 1620407160, 1620407280, 1620407400, 1620407520, 1620407640, 1620407760, 1620407880, 1620408000, 1620408120, 1620408240, 1620408360, 1620408480, 1620408600, 1620408720, 1620408840, 1620408960, 1620409080, 1620409200, 1620409320, 1620409440, 1620409560, 1620409680, 1620409800, 1620409920, 1620410040, 1620410160, 1620410280, 1620410400, 1620410520, 1620410640, 1620410760, 1620410880, 1620411000, 1620411120, 1620411240, 1620411360, 1620411480, 1620411600, 1620411720, 1620411840, 1620411960, 1620412080, 1620412200, 1620412320, 1620412440, 1620412560, 1620412680, 1620412800, 1620412920, 1620413040, 1620413160, 1620413280, 1620413400, 1620413520, 1620413640, 1620413760, 1620413880, 1620414000, 1620414120, 1620414240, 1620414360, 1620414480, 1620414600, 1620414720, 1620414840, 1620414960, 1620415080, 1620415200, 1620415320, 1620415440, 1620415560, 1620415680, 1620415800, 1620415920, 1620416040, 1620416160, 1620416280, 1620416400, 1620416520, 1620416640, 1620416760, 1620416880, 1620417000, 1620417120, 1620417240, 1620417360]\n"
     ]
    }
   ],
   "source": [
    "unix_time = getAndProcessFinancialDataJSON(tickers[0],justTimes=True)\n",
    "print(unix_time)"
   ]
  },
  {
   "cell_type": "code",
   "execution_count": 3,
   "metadata": {},
   "outputs": [],
   "source": [
    "X_raw_numpy = X_raw.to_numpy()\n",
    "y_raw_numpy = y_raw.to_numpy()"
   ]
  },
  {
   "cell_type": "code",
   "execution_count": 4,
   "metadata": {
    "tags": []
   },
   "outputs": [
    {
     "output_type": "stream",
     "name": "stdout",
     "text": [
      "original size: 47179\nelements to delete: 322\nresulting size: 46968\nresult+delete size: 47290\n"
     ]
    }
   ],
   "source": [
    "# clean data\n",
    "delete_list = []\n",
    "for i in range(len(X_raw_numpy)):\n",
    "    if(y_raw_numpy[i] == None):\n",
    "        delete_list.append(i)\n",
    "    for j in range(len(X_raw_numpy[0])):\n",
    "        if(X_raw_numpy[i][j] == None):\n",
    "            delete_list.append(i)\n",
    "X_clean = np.delete(X_raw_numpy, delete_list, 0)\n",
    "y_clean = np.delete(y_raw_numpy, delete_list, 0)\n",
    "# np.isnan(y_raw[i])\n",
    "\n",
    "print(\"original size:\",len(y_raw))\n",
    "print(\"elements to delete:\",len(delete_list))\n",
    "print(\"resulting size:\",len(y_clean))\n",
    "print(\"result+delete size:\",len(y_clean) + len(delete_list))"
   ]
  },
  {
   "cell_type": "code",
   "execution_count": 5,
   "metadata": {},
   "outputs": [
    {
     "output_type": "stream",
     "name": "stdout",
     "text": [
      "[[83.1238021850586]\n [82.9000015258789]\n [82.99649810791016]\n ...\n [34.81999969482422]\n [34.83000183105469]\n [34.810001373291016]]\n[[-1.0]\n [1.0]\n [-1.0]\n ...\n [1.0]\n [-1.0]\n [-1.0]]\n46968\n46968\n"
     ]
    }
   ],
   "source": [
    "print(X_clean)\n",
    "print(y_clean)\n",
    "print(len(X_clean))\n",
    "print(len(y_clean))"
   ]
  },
  {
   "cell_type": "code",
   "execution_count": 6,
   "metadata": {},
   "outputs": [],
   "source": [
    "# Split into train, validate, and test sets\n",
    "size = len(X_clean)\n",
    "\n",
    "# Get test size and data\n",
    "total_train_size = (size*8)//10\n",
    "test_size = size - total_train_size\n",
    "\n",
    "X_total_train_unnorm = X_clean[:total_train_size]\n",
    "y_total_train_unnorm = y_clean[:total_train_size]\n",
    "\n",
    "X_test_unnorm = X_clean[total_train_size:]\n",
    "y_test_unnorm = y_clean[total_train_size:]\n",
    "\n",
    "# Get train and validation size and data\n",
    "train_size = (total_train_size*8)//10\n",
    "val_size = total_train_size - train_size\n",
    "\n",
    "X_train_unnorm = X_total_train_unnorm[:train_size]\n",
    "y_train_unnorm = y_total_train_unnorm[:train_size]\n",
    "\n",
    "X_val_unnorm = X_total_train_unnorm[train_size:]\n",
    "y_val_unnorm = y_total_train_unnorm[train_size:]\n",
    "\n"
   ]
  },
  {
   "cell_type": "code",
   "execution_count": 7,
   "metadata": {},
   "outputs": [
    {
     "output_type": "stream",
     "name": "stdout",
     "text": [
      "37574\n30059\n7515\n9394\n\n37574\n30059\n7515\n9394\n\n37574\n30059\n7515\n9394\n"
     ]
    }
   ],
   "source": [
    "print(total_train_size)\n",
    "print(train_size)\n",
    "print(val_size)\n",
    "print(test_size)\n",
    "print()\n",
    "print(len(X_total_train_unnorm))\n",
    "print(len(X_train_unnorm))\n",
    "print(len(X_val_unnorm))\n",
    "print(len(X_test_unnorm))\n",
    "print()\n",
    "print(len(y_total_train_unnorm))\n",
    "print(len(y_train_unnorm))\n",
    "print(len(y_val_unnorm))\n",
    "print(len(y_test_unnorm))"
   ]
  },
  {
   "cell_type": "code",
   "execution_count": 8,
   "metadata": {},
   "outputs": [],
   "source": [
    "# Scale between 0 and 1, best for LSTM models\n",
    "scaler = MinMaxScaler(feature_range=(0, 1))\n",
    "X_train_norm = scaler.fit_transform(X_train_unnorm)\n",
    "y_train_norm = scaler.fit_transform(y_train_unnorm)\n",
    "\n",
    "X_val_norm = scaler.fit_transform(X_val_unnorm)\n",
    "y_val_norm = scaler.fit_transform(y_val_unnorm)\n",
    "\n",
    "X_test_norm = scaler.fit_transform(X_test_unnorm)\n",
    "y_test_norm = scaler.fit_transform(y_test_unnorm)"
   ]
  },
  {
   "cell_type": "code",
   "execution_count": 9,
   "metadata": {},
   "outputs": [],
   "source": [
    "# Let's try transposing y...\n",
    "y = y_train_norm.transpose()[0]\n",
    "y_val = y_val_norm.transpose()[0]\n",
    "y_test = y_test_norm.transpose()[0]"
   ]
  },
  {
   "cell_type": "code",
   "execution_count": 10,
   "metadata": {},
   "outputs": [],
   "source": [
    "# LSTM also needs to adhere to this shape\n",
    "X =      np.reshape(X_train_norm, (     X_train_norm.shape[0],  1, X_train_norm.shape[1]))\n",
    "X_val =  np.reshape(X_val_norm,   (     X_val_norm.shape[0],    1, X_val_norm.shape[1]))\n",
    "X_test = np.reshape(X_test_norm,  (     X_test_norm.shape[0],   1, X_test_norm.shape[1]))\n",
    "# y =      np.reshape(y_train_norm, (     y_train_norm.shape[0],  -1, y_train_norm.shape[1]))  # y_train_norm  \n",
    "# y_val =  np.reshape(y_val_norm,   (     y_val_norm.shape[0],    -1, y_val_norm.shape[1]))    # y_val_norm\n",
    "# y_test = np.reshape(y_test_norm,  (     y_test_norm.shape[0],   -1, y_test_norm.shape[1]))   # y_test_norm  "
   ]
  },
  {
   "cell_type": "code",
   "execution_count": 43,
   "metadata": {
    "tags": []
   },
   "outputs": [
    {
     "output_type": "stream",
     "name": "stdout",
     "text": [
      "[[0.09681608]]\n[0. 1. 0. ... 1. 0. 0.]\n30059\n30059\n"
     ]
    }
   ],
   "source": [
    "# Prints for sanity\n",
    "print(X[0])\n",
    "print(y)\n",
    "\n",
    "\n",
    "print(len(X))\n",
    "print(len(y))"
   ]
  },
  {
   "cell_type": "code",
   "execution_count": 75,
   "metadata": {},
   "outputs": [
    {
     "output_type": "stream",
     "name": "stdout",
     "text": [
      "(1, 1)\n",
      "Model: \"sequential_26\"\n",
      "_________________________________________________________________\n",
      "Layer (type)                 Output Shape              Param #   \n",
      "=================================================================\n",
      "lstm_38 (LSTM)               (None, 1, 512)            1052672   \n",
      "_________________________________________________________________\n",
      "dense_109 (Dense)            (None, 1, 128)            65664     \n",
      "_________________________________________________________________\n",
      "dense_110 (Dense)            (None, 1, 16)             2064      \n",
      "_________________________________________________________________\n",
      "dense_111 (Dense)            (None, 1, 8)              136       \n",
      "_________________________________________________________________\n",
      "dense_112 (Dense)            (None, 1, 1)              9         \n",
      "=================================================================\n",
      "Total params: 1,120,545\n",
      "Trainable params: 1,120,545\n",
      "Non-trainable params: 0\n",
      "_________________________________________________________________\n"
     ]
    }
   ],
   "source": [
    "# create the LSTM model\n",
    "input_shape = (1,  1)\n",
    "print(input_shape)\n",
    "model = Sequential()\n",
    "\n",
    "model.add(LSTM(512, input_shape=input_shape, return_sequences=True,dropout=0.8)) #, return_sequences=True))\n",
    "# Shape = [# of elements, data per element (1)]\n",
    "model.add(Dense(128, activation='tanh'))\n",
    "model.add(Dense(16,  activation='tanh'))\n",
    "model.add(Dense(8,   activation='relu'))\n",
    "model.add(Dense(1))\n",
    "# learning_rate=0.001\n",
    "model.compile(loss='binary_crossentropy', optimizer=Adam(learning_rate=0.001),metrics=[\"accuracy\"])\n",
    "\n",
    "model.summary()\n",
    "\n",
    "# mean square error r2 regularization - use regressions"
   ]
  },
  {
   "cell_type": "code",
   "execution_count": 76,
   "metadata": {
    "tags": []
   },
   "outputs": [
    {
     "output_type": "stream",
     "name": "stdout",
     "text": [
      "Epoch 1/100\n",
      "470/470 [==============================] - 4s 6ms/step - loss: 0.8520 - accuracy: 0.4868 - val_loss: 0.6984 - val_accuracy: 0.4387\n",
      "Epoch 2/100\n",
      "470/470 [==============================] - 3s 6ms/step - loss: 0.6953 - accuracy: 0.4788 - val_loss: 0.6964 - val_accuracy: 0.4387\n",
      "Epoch 3/100\n",
      "470/470 [==============================] - 3s 6ms/step - loss: 0.6960 - accuracy: 0.4856 - val_loss: 0.6963 - val_accuracy: 0.4335\n",
      "Epoch 4/100\n",
      "470/470 [==============================] - 3s 6ms/step - loss: 0.6955 - accuracy: 0.4806 - val_loss: 0.6944 - val_accuracy: 0.4387\n",
      "Epoch 5/100\n",
      "470/470 [==============================] - 3s 6ms/step - loss: 0.6955 - accuracy: 0.4826 - val_loss: 0.6959 - val_accuracy: 0.4330\n",
      "Epoch 6/100\n",
      "470/470 [==============================] - 3s 6ms/step - loss: 0.6944 - accuracy: 0.4820 - val_loss: 0.6937 - val_accuracy: 0.4387\n",
      "Epoch 7/100\n",
      "470/470 [==============================] - 3s 6ms/step - loss: 0.6956 - accuracy: 0.4747 - val_loss: 0.6957 - val_accuracy: 0.4387\n",
      "Epoch 8/100\n",
      "470/470 [==============================] - 3s 6ms/step - loss: 0.6940 - accuracy: 0.4809 - val_loss: 0.6980 - val_accuracy: 0.4387\n",
      "Epoch 9/100\n",
      "470/470 [==============================] - 3s 6ms/step - loss: 0.6940 - accuracy: 0.4805 - val_loss: 0.6933 - val_accuracy: 0.4468\n",
      "Epoch 10/100\n",
      "470/470 [==============================] - 3s 6ms/step - loss: 0.6939 - accuracy: 0.4854 - val_loss: 0.6932 - val_accuracy: 0.4387\n",
      "Epoch 11/100\n",
      "470/470 [==============================] - 3s 6ms/step - loss: 0.6944 - accuracy: 0.4806 - val_loss: 0.6933 - val_accuracy: 0.4330\n",
      "Epoch 12/100\n",
      "470/470 [==============================] - 3s 6ms/step - loss: 0.6940 - accuracy: 0.4845 - val_loss: 0.6930 - val_accuracy: 0.4526\n",
      "Epoch 13/100\n",
      "470/470 [==============================] - 3s 6ms/step - loss: 0.6939 - accuracy: 0.4820 - val_loss: 0.6931 - val_accuracy: 0.4468\n",
      "Epoch 14/100\n",
      "470/470 [==============================] - 3s 6ms/step - loss: 0.6942 - accuracy: 0.4786 - val_loss: 0.6930 - val_accuracy: 0.4526\n",
      "Epoch 15/100\n",
      "470/470 [==============================] - 3s 6ms/step - loss: 0.6939 - accuracy: 0.4810 - val_loss: 0.6932 - val_accuracy: 0.4468\n",
      "Epoch 16/100\n",
      "470/470 [==============================] - 3s 6ms/step - loss: 0.6940 - accuracy: 0.4835 - val_loss: 0.6932 - val_accuracy: 0.4468\n",
      "Epoch 17/100\n",
      "470/470 [==============================] - 3s 6ms/step - loss: 0.6938 - accuracy: 0.4838 - val_loss: 0.6951 - val_accuracy: 0.4387\n",
      "Epoch 18/100\n",
      "470/470 [==============================] - 3s 6ms/step - loss: 0.6937 - accuracy: 0.4856 - val_loss: 0.6935 - val_accuracy: 0.4468\n",
      "Epoch 19/100\n",
      "470/470 [==============================] - 3s 6ms/step - loss: 0.6941 - accuracy: 0.4862 - val_loss: 0.6931 - val_accuracy: 0.4468\n",
      "Epoch 20/100\n",
      "470/470 [==============================] - 3s 6ms/step - loss: 0.6937 - accuracy: 0.4789 - val_loss: 0.6932 - val_accuracy: 0.4468\n",
      "Epoch 21/100\n",
      "470/470 [==============================] - 3s 6ms/step - loss: 0.6934 - accuracy: 0.4856 - val_loss: 0.6931 - val_accuracy: 0.4468\n",
      "Epoch 22/100\n",
      "470/470 [==============================] - 3s 6ms/step - loss: 0.6934 - accuracy: 0.4888 - val_loss: 0.6937 - val_accuracy: 0.4387\n",
      "Epoch 23/100\n",
      "470/470 [==============================] - 3s 6ms/step - loss: 0.6934 - accuracy: 0.4861 - val_loss: 0.6936 - val_accuracy: 0.4468\n",
      "Epoch 24/100\n",
      "470/470 [==============================] - 3s 6ms/step - loss: 0.6941 - accuracy: 0.4826 - val_loss: 0.6932 - val_accuracy: 0.4387\n",
      "Epoch 25/100\n",
      "470/470 [==============================] - 3s 6ms/step - loss: 0.6935 - accuracy: 0.4841 - val_loss: 0.6932 - val_accuracy: 0.4387\n",
      "Epoch 26/100\n",
      "470/470 [==============================] - 3s 6ms/step - loss: 0.6933 - accuracy: 0.4829 - val_loss: 0.6933 - val_accuracy: 0.4468\n",
      "Epoch 27/100\n",
      "470/470 [==============================] - 3s 6ms/step - loss: 0.6936 - accuracy: 0.4857 - val_loss: 0.6932 - val_accuracy: 0.4387\n",
      "Epoch 28/100\n",
      "470/470 [==============================] - 3s 6ms/step - loss: 0.6934 - accuracy: 0.4900 - val_loss: 0.6931 - val_accuracy: 0.4468\n",
      "Epoch 29/100\n",
      "470/470 [==============================] - 3s 6ms/step - loss: 0.6936 - accuracy: 0.4868 - val_loss: 0.6935 - val_accuracy: 0.4468\n",
      "Epoch 30/100\n",
      "470/470 [==============================] - 3s 6ms/step - loss: 0.6935 - accuracy: 0.4867 - val_loss: 0.6936 - val_accuracy: 0.4387\n",
      "Epoch 31/100\n",
      "470/470 [==============================] - 3s 6ms/step - loss: 0.6936 - accuracy: 0.4761 - val_loss: 0.6933 - val_accuracy: 0.4387\n",
      "Epoch 32/100\n",
      "470/470 [==============================] - 3s 6ms/step - loss: 0.6934 - accuracy: 0.4824 - val_loss: 0.6939 - val_accuracy: 0.4387\n",
      "Epoch 33/100\n",
      "470/470 [==============================] - 3s 6ms/step - loss: 0.6937 - accuracy: 0.4835 - val_loss: 0.6937 - val_accuracy: 0.4387\n",
      "Epoch 34/100\n",
      "470/470 [==============================] - 3s 6ms/step - loss: 0.6935 - accuracy: 0.4799 - val_loss: 0.6933 - val_accuracy: 0.4468\n",
      "Epoch 35/100\n",
      "470/470 [==============================] - 3s 6ms/step - loss: 0.6936 - accuracy: 0.4816 - val_loss: 0.6934 - val_accuracy: 0.4387\n",
      "Epoch 36/100\n",
      "470/470 [==============================] - 3s 6ms/step - loss: 0.6937 - accuracy: 0.4773 - val_loss: 0.6936 - val_accuracy: 0.4387\n",
      "Epoch 37/100\n",
      "470/470 [==============================] - 3s 6ms/step - loss: 0.6935 - accuracy: 0.4835 - val_loss: 0.6949 - val_accuracy: 0.4387\n",
      "Epoch 38/100\n",
      "470/470 [==============================] - 3s 6ms/step - loss: 0.6937 - accuracy: 0.4814 - val_loss: 0.6952 - val_accuracy: 0.4387\n",
      "Epoch 39/100\n",
      "470/470 [==============================] - 3s 6ms/step - loss: 0.6935 - accuracy: 0.4849 - val_loss: 0.6934 - val_accuracy: 0.4387\n",
      "Epoch 40/100\n",
      "470/470 [==============================] - 3s 6ms/step - loss: 0.6937 - accuracy: 0.4791 - val_loss: 0.6938 - val_accuracy: 0.4468\n",
      "Epoch 41/100\n",
      "470/470 [==============================] - 3s 6ms/step - loss: 0.6937 - accuracy: 0.4862 - val_loss: 0.6931 - val_accuracy: 0.4468\n",
      "Epoch 42/100\n",
      "470/470 [==============================] - 3s 6ms/step - loss: 0.6933 - accuracy: 0.4878 - val_loss: 0.6931 - val_accuracy: 0.4468\n",
      "Epoch 43/100\n",
      "470/470 [==============================] - 3s 6ms/step - loss: 0.6935 - accuracy: 0.4783 - val_loss: 0.6939 - val_accuracy: 0.4387\n",
      "Epoch 44/100\n",
      "470/470 [==============================] - 3s 6ms/step - loss: 0.6937 - accuracy: 0.4819 - val_loss: 0.6932 - val_accuracy: 0.4468\n",
      "Epoch 45/100\n",
      "470/470 [==============================] - 3s 6ms/step - loss: 0.6934 - accuracy: 0.4857 - val_loss: 0.6932 - val_accuracy: 0.4387\n",
      "Epoch 46/100\n",
      "470/470 [==============================] - 3s 6ms/step - loss: 0.6932 - accuracy: 0.4856 - val_loss: 0.6953 - val_accuracy: 0.4468\n",
      "Epoch 47/100\n",
      "470/470 [==============================] - 3s 6ms/step - loss: 0.6942 - accuracy: 0.4805 - val_loss: 0.6951 - val_accuracy: 0.4387\n",
      "Epoch 48/100\n",
      "470/470 [==============================] - 3s 6ms/step - loss: 0.6934 - accuracy: 0.4808 - val_loss: 0.6952 - val_accuracy: 0.4387\n",
      "Epoch 49/100\n",
      "470/470 [==============================] - 3s 6ms/step - loss: 0.6929 - accuracy: 0.4864 - val_loss: 0.6931 - val_accuracy: 0.4468\n",
      "Epoch 50/100\n",
      "470/470 [==============================] - 3s 6ms/step - loss: 0.6934 - accuracy: 0.4778 - val_loss: 0.6932 - val_accuracy: 0.4330\n",
      "Epoch 51/100\n",
      "470/470 [==============================] - 3s 6ms/step - loss: 0.6933 - accuracy: 0.4872 - val_loss: 0.6939 - val_accuracy: 0.4387\n",
      "Epoch 52/100\n",
      "470/470 [==============================] - 3s 6ms/step - loss: 0.6935 - accuracy: 0.4784 - val_loss: 0.6946 - val_accuracy: 0.4387\n",
      "Epoch 53/100\n",
      "470/470 [==============================] - 3s 6ms/step - loss: 0.6933 - accuracy: 0.4894 - val_loss: 0.6932 - val_accuracy: 0.4468\n",
      "Epoch 54/100\n",
      "470/470 [==============================] - 3s 6ms/step - loss: 0.6931 - accuracy: 0.4888 - val_loss: 0.6932 - val_accuracy: 0.4387\n",
      "Epoch 55/100\n",
      "470/470 [==============================] - 3s 6ms/step - loss: 0.6932 - accuracy: 0.4904 - val_loss: 0.6959 - val_accuracy: 0.4387\n",
      "Epoch 56/100\n",
      "470/470 [==============================] - 3s 6ms/step - loss: 0.6930 - accuracy: 0.4914 - val_loss: 0.6933 - val_accuracy: 0.4468\n",
      "Epoch 57/100\n",
      "470/470 [==============================] - 3s 6ms/step - loss: 0.6931 - accuracy: 0.4890 - val_loss: 0.6943 - val_accuracy: 0.4387\n",
      "Epoch 58/100\n",
      "470/470 [==============================] - 3s 6ms/step - loss: 0.6932 - accuracy: 0.4923 - val_loss: 0.6933 - val_accuracy: 0.4468\n",
      "Epoch 59/100\n",
      "470/470 [==============================] - 3s 6ms/step - loss: 0.6936 - accuracy: 0.4795 - val_loss: 0.6933 - val_accuracy: 0.4387\n",
      "Epoch 60/100\n",
      "470/470 [==============================] - 3s 6ms/step - loss: 0.6934 - accuracy: 0.4835 - val_loss: 0.6932 - val_accuracy: 0.4468\n",
      "Epoch 61/100\n",
      "470/470 [==============================] - 3s 6ms/step - loss: 0.6934 - accuracy: 0.4842 - val_loss: 0.6931 - val_accuracy: 0.4468\n",
      "Epoch 62/100\n",
      "470/470 [==============================] - 3s 6ms/step - loss: 0.6935 - accuracy: 0.4793 - val_loss: 0.6936 - val_accuracy: 0.4387\n",
      "Epoch 63/100\n",
      "470/470 [==============================] - 3s 6ms/step - loss: 0.6933 - accuracy: 0.4835 - val_loss: 0.6931 - val_accuracy: 0.4468\n",
      "Epoch 64/100\n",
      "470/470 [==============================] - 3s 6ms/step - loss: 0.6932 - accuracy: 0.4844 - val_loss: 0.6963 - val_accuracy: 0.4387\n",
      "Epoch 65/100\n",
      "470/470 [==============================] - 3s 6ms/step - loss: 0.6939 - accuracy: 0.4826 - val_loss: 0.6932 - val_accuracy: 0.4330\n",
      "Epoch 66/100\n",
      "470/470 [==============================] - 3s 6ms/step - loss: 0.6940 - accuracy: 0.4826 - val_loss: 0.6931 - val_accuracy: 0.4468\n",
      "Epoch 67/100\n",
      "470/470 [==============================] - 3s 6ms/step - loss: 0.6935 - accuracy: 0.4845 - val_loss: 0.6932 - val_accuracy: 0.4387\n",
      "Epoch 68/100\n",
      "470/470 [==============================] - 3s 6ms/step - loss: 0.6935 - accuracy: 0.4790 - val_loss: 0.6931 - val_accuracy: 0.4468\n",
      "Epoch 69/100\n",
      "470/470 [==============================] - 3s 6ms/step - loss: 0.6933 - accuracy: 0.4845 - val_loss: 0.6932 - val_accuracy: 0.4387\n",
      "Epoch 70/100\n",
      "470/470 [==============================] - 3s 6ms/step - loss: 0.6934 - accuracy: 0.4873 - val_loss: 0.6931 - val_accuracy: 0.4468\n",
      "Epoch 71/100\n",
      "470/470 [==============================] - 3s 6ms/step - loss: 0.6934 - accuracy: 0.4854 - val_loss: 0.6931 - val_accuracy: 0.4468\n",
      "Epoch 72/100\n",
      "470/470 [==============================] - 3s 6ms/step - loss: 0.6934 - accuracy: 0.4834 - val_loss: 0.6931 - val_accuracy: 0.4468\n",
      "Epoch 73/100\n",
      "470/470 [==============================] - 3s 6ms/step - loss: 0.6934 - accuracy: 0.4801 - val_loss: 0.6933 - val_accuracy: 0.4387\n",
      "Epoch 74/100\n",
      "470/470 [==============================] - 3s 6ms/step - loss: 0.6935 - accuracy: 0.4825 - val_loss: 0.6932 - val_accuracy: 0.4387\n",
      "Epoch 75/100\n",
      "470/470 [==============================] - 3s 6ms/step - loss: 0.6933 - accuracy: 0.4855 - val_loss: 0.6961 - val_accuracy: 0.4387\n",
      "Epoch 76/100\n",
      "470/470 [==============================] - 3s 6ms/step - loss: 0.6932 - accuracy: 0.4836 - val_loss: 0.6942 - val_accuracy: 0.4387\n",
      "Epoch 77/100\n",
      "470/470 [==============================] - 3s 6ms/step - loss: 0.6935 - accuracy: 0.4848 - val_loss: 0.6932 - val_accuracy: 0.4468\n",
      "Epoch 78/100\n",
      "470/470 [==============================] - 3s 6ms/step - loss: 0.6934 - accuracy: 0.4817 - val_loss: 0.6931 - val_accuracy: 0.4468\n",
      "Epoch 79/100\n",
      "470/470 [==============================] - 3s 6ms/step - loss: 0.6933 - accuracy: 0.4843 - val_loss: 0.6935 - val_accuracy: 0.4387\n",
      "Epoch 80/100\n",
      "470/470 [==============================] - 3s 6ms/step - loss: 0.6934 - accuracy: 0.4839 - val_loss: 0.6936 - val_accuracy: 0.4387\n",
      "Epoch 81/100\n",
      "470/470 [==============================] - 3s 6ms/step - loss: 0.6933 - accuracy: 0.4843 - val_loss: 0.6932 - val_accuracy: 0.4330\n",
      "Epoch 82/100\n",
      "470/470 [==============================] - 3s 6ms/step - loss: 0.6933 - accuracy: 0.4864 - val_loss: 0.6940 - val_accuracy: 0.4387\n",
      "Epoch 83/100\n",
      "470/470 [==============================] - 3s 6ms/step - loss: 0.6933 - accuracy: 0.4825 - val_loss: 0.6931 - val_accuracy: 0.4468\n",
      "Epoch 84/100\n",
      "470/470 [==============================] - 3s 6ms/step - loss: 0.6933 - accuracy: 0.4804 - val_loss: 0.6945 - val_accuracy: 0.4468\n",
      "Epoch 85/100\n",
      "470/470 [==============================] - 3s 6ms/step - loss: 0.6934 - accuracy: 0.4897 - val_loss: 0.6937 - val_accuracy: 0.4387\n",
      "Epoch 86/100\n",
      "470/470 [==============================] - 3s 6ms/step - loss: 0.6936 - accuracy: 0.4798 - val_loss: 0.6934 - val_accuracy: 0.4387\n",
      "Epoch 87/100\n",
      "470/470 [==============================] - 3s 6ms/step - loss: 0.6931 - accuracy: 0.4884 - val_loss: 0.6941 - val_accuracy: 0.4387\n",
      "Epoch 88/100\n",
      "470/470 [==============================] - 3s 6ms/step - loss: 0.6934 - accuracy: 0.4870 - val_loss: 0.6932 - val_accuracy: 0.4387\n",
      "Epoch 89/100\n",
      "470/470 [==============================] - 3s 6ms/step - loss: 0.6932 - accuracy: 0.4854 - val_loss: 0.6936 - val_accuracy: 0.4387\n",
      "Epoch 90/100\n",
      "470/470 [==============================] - 3s 6ms/step - loss: 0.6932 - accuracy: 0.4849 - val_loss: 0.6933 - val_accuracy: 0.4387\n",
      "Epoch 91/100\n",
      "470/470 [==============================] - 3s 6ms/step - loss: 0.6933 - accuracy: 0.4833 - val_loss: 0.6934 - val_accuracy: 0.4387\n",
      "Epoch 92/100\n",
      "470/470 [==============================] - 3s 6ms/step - loss: 0.6935 - accuracy: 0.4827 - val_loss: 0.6931 - val_accuracy: 0.4468\n",
      "Epoch 93/100\n",
      "470/470 [==============================] - 3s 6ms/step - loss: 0.6934 - accuracy: 0.4859 - val_loss: 0.6945 - val_accuracy: 0.4387\n",
      "Epoch 94/100\n",
      "470/470 [==============================] - 3s 6ms/step - loss: 0.6934 - accuracy: 0.4870 - val_loss: 0.6935 - val_accuracy: 0.4387\n",
      "Epoch 95/100\n",
      "470/470 [==============================] - 3s 6ms/step - loss: 0.6932 - accuracy: 0.4845 - val_loss: 0.6930 - val_accuracy: 0.4468\n",
      "Epoch 96/100\n",
      "470/470 [==============================] - 3s 6ms/step - loss: 0.6930 - accuracy: 0.4885 - val_loss: 0.6938 - val_accuracy: 0.4387\n",
      "Epoch 97/100\n",
      "470/470 [==============================] - 3s 6ms/step - loss: 0.6935 - accuracy: 0.4830 - val_loss: 0.6933 - val_accuracy: 0.4387\n",
      "Epoch 98/100\n",
      "470/470 [==============================] - 3s 6ms/step - loss: 0.6931 - accuracy: 0.4873 - val_loss: 0.6946 - val_accuracy: 0.4387\n",
      "Epoch 99/100\n",
      "470/470 [==============================] - 3s 6ms/step - loss: 0.6935 - accuracy: 0.4809 - val_loss: 0.6940 - val_accuracy: 0.4387\n",
      "Epoch 100/100\n",
      "470/470 [==============================] - 3s 6ms/step - loss: 0.6931 - accuracy: 0.4858 - val_loss: 0.6933 - val_accuracy: 0.4468\n",
      "Done!\n"
     ]
    }
   ],
   "source": [
    "# Train\n",
    "history = model.fit(X, y, epochs=100, batch_size=64, verbose=1, validation_data=(X_val, y_val))\n",
    "print(\"Done!\")"
   ]
  },
  {
   "cell_type": "code",
   "execution_count": null,
   "metadata": {},
   "outputs": [],
   "source": []
  },
  {
   "cell_type": "code",
   "execution_count": 51,
   "metadata": {},
   "outputs": [
    {
     "output_type": "display_data",
     "data": {
      "text/plain": "<Figure size 432x288 with 1 Axes>",
      "image/svg+xml": "<?xml version=\"1.0\" encoding=\"utf-8\" standalone=\"no\"?>\n<!DOCTYPE svg PUBLIC \"-//W3C//DTD SVG 1.1//EN\"\n  \"http://www.w3.org/Graphics/SVG/1.1/DTD/svg11.dtd\">\n<svg height=\"277.314375pt\" version=\"1.1\" viewBox=\"0 0 392.14375 277.314375\" width=\"392.14375pt\" xmlns=\"http://www.w3.org/2000/svg\" xmlns:xlink=\"http://www.w3.org/1999/xlink\">\n <metadata>\n  <rdf:RDF xmlns:cc=\"http://creativecommons.org/ns#\" xmlns:dc=\"http://purl.org/dc/elements/1.1/\" xmlns:rdf=\"http://www.w3.org/1999/02/22-rdf-syntax-ns#\">\n   <cc:Work>\n    <dc:type rdf:resource=\"http://purl.org/dc/dcmitype/StillImage\"/>\n    <dc:date>2021-05-09T17:07:28.109037</dc:date>\n    <dc:format>image/svg+xml</dc:format>\n    <dc:creator>\n     <cc:Agent>\n      <dc:title>Matplotlib v3.4.0, https://matplotlib.org/</dc:title>\n     </cc:Agent>\n    </dc:creator>\n   </cc:Work>\n  </rdf:RDF>\n </metadata>\n <defs>\n  <style type=\"text/css\">*{stroke-linecap:butt;stroke-linejoin:round;}</style>\n </defs>\n <g id=\"figure_1\">\n  <g id=\"patch_1\">\n   <path d=\"M 0 277.314375 \nL 392.14375 277.314375 \nL 392.14375 0 \nL 0 0 \nz\n\" style=\"fill:none;\"/>\n  </g>\n  <g id=\"axes_1\">\n   <g id=\"patch_2\">\n    <path d=\"M 50.14375 239.758125 \nL 384.94375 239.758125 \nL 384.94375 22.318125 \nL 50.14375 22.318125 \nz\n\" style=\"fill:#ffffff;\"/>\n   </g>\n   <g id=\"matplotlib.axis_1\">\n    <g id=\"xtick_1\">\n     <g id=\"line2d_1\">\n      <defs>\n       <path d=\"M 0 0 \nL 0 3.5 \n\" id=\"m4e8f626cc8\" style=\"stroke:#000000;stroke-width:0.8;\"/>\n      </defs>\n      <g>\n       <use style=\"stroke:#000000;stroke-width:0.8;\" x=\"65.361932\" xlink:href=\"#m4e8f626cc8\" y=\"239.758125\"/>\n      </g>\n     </g>\n     <g id=\"text_1\">\n      <!-- 0 -->\n      <g transform=\"translate(62.180682 254.356562)scale(0.1 -0.1)\">\n       <defs>\n        <path d=\"M 2034 4250 \nQ 1547 4250 1301 3770 \nQ 1056 3291 1056 2328 \nQ 1056 1369 1301 889 \nQ 1547 409 2034 409 \nQ 2525 409 2770 889 \nQ 3016 1369 3016 2328 \nQ 3016 3291 2770 3770 \nQ 2525 4250 2034 4250 \nz\nM 2034 4750 \nQ 2819 4750 3233 4129 \nQ 3647 3509 3647 2328 \nQ 3647 1150 3233 529 \nQ 2819 -91 2034 -91 \nQ 1250 -91 836 529 \nQ 422 1150 422 2328 \nQ 422 3509 836 4129 \nQ 1250 4750 2034 4750 \nz\n\" id=\"DejaVuSans-30\" transform=\"scale(0.015625)\"/>\n       </defs>\n       <use xlink:href=\"#DejaVuSans-30\"/>\n      </g>\n     </g>\n    </g>\n    <g id=\"xtick_2\">\n     <g id=\"line2d_2\">\n      <g>\n       <use style=\"stroke:#000000;stroke-width:0.8;\" x=\"126.849535\" xlink:href=\"#m4e8f626cc8\" y=\"239.758125\"/>\n      </g>\n     </g>\n     <g id=\"text_2\">\n      <!-- 20 -->\n      <g transform=\"translate(120.487035 254.356562)scale(0.1 -0.1)\">\n       <defs>\n        <path d=\"M 1228 531 \nL 3431 531 \nL 3431 0 \nL 469 0 \nL 469 531 \nQ 828 903 1448 1529 \nQ 2069 2156 2228 2338 \nQ 2531 2678 2651 2914 \nQ 2772 3150 2772 3378 \nQ 2772 3750 2511 3984 \nQ 2250 4219 1831 4219 \nQ 1534 4219 1204 4116 \nQ 875 4013 500 3803 \nL 500 4441 \nQ 881 4594 1212 4672 \nQ 1544 4750 1819 4750 \nQ 2544 4750 2975 4387 \nQ 3406 4025 3406 3419 \nQ 3406 3131 3298 2873 \nQ 3191 2616 2906 2266 \nQ 2828 2175 2409 1742 \nQ 1991 1309 1228 531 \nz\n\" id=\"DejaVuSans-32\" transform=\"scale(0.015625)\"/>\n       </defs>\n       <use xlink:href=\"#DejaVuSans-32\"/>\n       <use x=\"63.623047\" xlink:href=\"#DejaVuSans-30\"/>\n      </g>\n     </g>\n    </g>\n    <g id=\"xtick_3\">\n     <g id=\"line2d_3\">\n      <g>\n       <use style=\"stroke:#000000;stroke-width:0.8;\" x=\"188.337138\" xlink:href=\"#m4e8f626cc8\" y=\"239.758125\"/>\n      </g>\n     </g>\n     <g id=\"text_3\">\n      <!-- 40 -->\n      <g transform=\"translate(181.974638 254.356562)scale(0.1 -0.1)\">\n       <defs>\n        <path d=\"M 2419 4116 \nL 825 1625 \nL 2419 1625 \nL 2419 4116 \nz\nM 2253 4666 \nL 3047 4666 \nL 3047 1625 \nL 3713 1625 \nL 3713 1100 \nL 3047 1100 \nL 3047 0 \nL 2419 0 \nL 2419 1100 \nL 313 1100 \nL 313 1709 \nL 2253 4666 \nz\n\" id=\"DejaVuSans-34\" transform=\"scale(0.015625)\"/>\n       </defs>\n       <use xlink:href=\"#DejaVuSans-34\"/>\n       <use x=\"63.623047\" xlink:href=\"#DejaVuSans-30\"/>\n      </g>\n     </g>\n    </g>\n    <g id=\"xtick_4\">\n     <g id=\"line2d_4\">\n      <g>\n       <use style=\"stroke:#000000;stroke-width:0.8;\" x=\"249.824742\" xlink:href=\"#m4e8f626cc8\" y=\"239.758125\"/>\n      </g>\n     </g>\n     <g id=\"text_4\">\n      <!-- 60 -->\n      <g transform=\"translate(243.462242 254.356562)scale(0.1 -0.1)\">\n       <defs>\n        <path d=\"M 2113 2584 \nQ 1688 2584 1439 2293 \nQ 1191 2003 1191 1497 \nQ 1191 994 1439 701 \nQ 1688 409 2113 409 \nQ 2538 409 2786 701 \nQ 3034 994 3034 1497 \nQ 3034 2003 2786 2293 \nQ 2538 2584 2113 2584 \nz\nM 3366 4563 \nL 3366 3988 \nQ 3128 4100 2886 4159 \nQ 2644 4219 2406 4219 \nQ 1781 4219 1451 3797 \nQ 1122 3375 1075 2522 \nQ 1259 2794 1537 2939 \nQ 1816 3084 2150 3084 \nQ 2853 3084 3261 2657 \nQ 3669 2231 3669 1497 \nQ 3669 778 3244 343 \nQ 2819 -91 2113 -91 \nQ 1303 -91 875 529 \nQ 447 1150 447 2328 \nQ 447 3434 972 4092 \nQ 1497 4750 2381 4750 \nQ 2619 4750 2861 4703 \nQ 3103 4656 3366 4563 \nz\n\" id=\"DejaVuSans-36\" transform=\"scale(0.015625)\"/>\n       </defs>\n       <use xlink:href=\"#DejaVuSans-36\"/>\n       <use x=\"63.623047\" xlink:href=\"#DejaVuSans-30\"/>\n      </g>\n     </g>\n    </g>\n    <g id=\"xtick_5\">\n     <g id=\"line2d_5\">\n      <g>\n       <use style=\"stroke:#000000;stroke-width:0.8;\" x=\"311.312345\" xlink:href=\"#m4e8f626cc8\" y=\"239.758125\"/>\n      </g>\n     </g>\n     <g id=\"text_5\">\n      <!-- 80 -->\n      <g transform=\"translate(304.949845 254.356562)scale(0.1 -0.1)\">\n       <defs>\n        <path d=\"M 2034 2216 \nQ 1584 2216 1326 1975 \nQ 1069 1734 1069 1313 \nQ 1069 891 1326 650 \nQ 1584 409 2034 409 \nQ 2484 409 2743 651 \nQ 3003 894 3003 1313 \nQ 3003 1734 2745 1975 \nQ 2488 2216 2034 2216 \nz\nM 1403 2484 \nQ 997 2584 770 2862 \nQ 544 3141 544 3541 \nQ 544 4100 942 4425 \nQ 1341 4750 2034 4750 \nQ 2731 4750 3128 4425 \nQ 3525 4100 3525 3541 \nQ 3525 3141 3298 2862 \nQ 3072 2584 2669 2484 \nQ 3125 2378 3379 2068 \nQ 3634 1759 3634 1313 \nQ 3634 634 3220 271 \nQ 2806 -91 2034 -91 \nQ 1263 -91 848 271 \nQ 434 634 434 1313 \nQ 434 1759 690 2068 \nQ 947 2378 1403 2484 \nz\nM 1172 3481 \nQ 1172 3119 1398 2916 \nQ 1625 2713 2034 2713 \nQ 2441 2713 2670 2916 \nQ 2900 3119 2900 3481 \nQ 2900 3844 2670 4047 \nQ 2441 4250 2034 4250 \nQ 1625 4250 1398 4047 \nQ 1172 3844 1172 3481 \nz\n\" id=\"DejaVuSans-38\" transform=\"scale(0.015625)\"/>\n       </defs>\n       <use xlink:href=\"#DejaVuSans-38\"/>\n       <use x=\"63.623047\" xlink:href=\"#DejaVuSans-30\"/>\n      </g>\n     </g>\n    </g>\n    <g id=\"xtick_6\">\n     <g id=\"line2d_6\">\n      <g>\n       <use style=\"stroke:#000000;stroke-width:0.8;\" x=\"372.799948\" xlink:href=\"#m4e8f626cc8\" y=\"239.758125\"/>\n      </g>\n     </g>\n     <g id=\"text_6\">\n      <!-- 100 -->\n      <g transform=\"translate(363.256198 254.356562)scale(0.1 -0.1)\">\n       <defs>\n        <path d=\"M 794 531 \nL 1825 531 \nL 1825 4091 \nL 703 3866 \nL 703 4441 \nL 1819 4666 \nL 2450 4666 \nL 2450 531 \nL 3481 531 \nL 3481 0 \nL 794 0 \nL 794 531 \nz\n\" id=\"DejaVuSans-31\" transform=\"scale(0.015625)\"/>\n       </defs>\n       <use xlink:href=\"#DejaVuSans-31\"/>\n       <use x=\"63.623047\" xlink:href=\"#DejaVuSans-30\"/>\n       <use x=\"127.246094\" xlink:href=\"#DejaVuSans-30\"/>\n      </g>\n     </g>\n    </g>\n    <g id=\"text_7\">\n     <!-- epoch -->\n     <g transform=\"translate(202.315625 268.034687)scale(0.1 -0.1)\">\n      <defs>\n       <path d=\"M 3597 1894 \nL 3597 1613 \nL 953 1613 \nQ 991 1019 1311 708 \nQ 1631 397 2203 397 \nQ 2534 397 2845 478 \nQ 3156 559 3463 722 \nL 3463 178 \nQ 3153 47 2828 -22 \nQ 2503 -91 2169 -91 \nQ 1331 -91 842 396 \nQ 353 884 353 1716 \nQ 353 2575 817 3079 \nQ 1281 3584 2069 3584 \nQ 2775 3584 3186 3129 \nQ 3597 2675 3597 1894 \nz\nM 3022 2063 \nQ 3016 2534 2758 2815 \nQ 2500 3097 2075 3097 \nQ 1594 3097 1305 2825 \nQ 1016 2553 972 2059 \nL 3022 2063 \nz\n\" id=\"DejaVuSans-65\" transform=\"scale(0.015625)\"/>\n       <path d=\"M 1159 525 \nL 1159 -1331 \nL 581 -1331 \nL 581 3500 \nL 1159 3500 \nL 1159 2969 \nQ 1341 3281 1617 3432 \nQ 1894 3584 2278 3584 \nQ 2916 3584 3314 3078 \nQ 3713 2572 3713 1747 \nQ 3713 922 3314 415 \nQ 2916 -91 2278 -91 \nQ 1894 -91 1617 61 \nQ 1341 213 1159 525 \nz\nM 3116 1747 \nQ 3116 2381 2855 2742 \nQ 2594 3103 2138 3103 \nQ 1681 3103 1420 2742 \nQ 1159 2381 1159 1747 \nQ 1159 1113 1420 752 \nQ 1681 391 2138 391 \nQ 2594 391 2855 752 \nQ 3116 1113 3116 1747 \nz\n\" id=\"DejaVuSans-70\" transform=\"scale(0.015625)\"/>\n       <path d=\"M 1959 3097 \nQ 1497 3097 1228 2736 \nQ 959 2375 959 1747 \nQ 959 1119 1226 758 \nQ 1494 397 1959 397 \nQ 2419 397 2687 759 \nQ 2956 1122 2956 1747 \nQ 2956 2369 2687 2733 \nQ 2419 3097 1959 3097 \nz\nM 1959 3584 \nQ 2709 3584 3137 3096 \nQ 3566 2609 3566 1747 \nQ 3566 888 3137 398 \nQ 2709 -91 1959 -91 \nQ 1206 -91 779 398 \nQ 353 888 353 1747 \nQ 353 2609 779 3096 \nQ 1206 3584 1959 3584 \nz\n\" id=\"DejaVuSans-6f\" transform=\"scale(0.015625)\"/>\n       <path d=\"M 3122 3366 \nL 3122 2828 \nQ 2878 2963 2633 3030 \nQ 2388 3097 2138 3097 \nQ 1578 3097 1268 2742 \nQ 959 2388 959 1747 \nQ 959 1106 1268 751 \nQ 1578 397 2138 397 \nQ 2388 397 2633 464 \nQ 2878 531 3122 666 \nL 3122 134 \nQ 2881 22 2623 -34 \nQ 2366 -91 2075 -91 \nQ 1284 -91 818 406 \nQ 353 903 353 1747 \nQ 353 2603 823 3093 \nQ 1294 3584 2113 3584 \nQ 2378 3584 2631 3529 \nQ 2884 3475 3122 3366 \nz\n\" id=\"DejaVuSans-63\" transform=\"scale(0.015625)\"/>\n       <path d=\"M 3513 2113 \nL 3513 0 \nL 2938 0 \nL 2938 2094 \nQ 2938 2591 2744 2837 \nQ 2550 3084 2163 3084 \nQ 1697 3084 1428 2787 \nQ 1159 2491 1159 1978 \nL 1159 0 \nL 581 0 \nL 581 4863 \nL 1159 4863 \nL 1159 2956 \nQ 1366 3272 1645 3428 \nQ 1925 3584 2291 3584 \nQ 2894 3584 3203 3211 \nQ 3513 2838 3513 2113 \nz\n\" id=\"DejaVuSans-68\" transform=\"scale(0.015625)\"/>\n      </defs>\n      <use xlink:href=\"#DejaVuSans-65\"/>\n      <use x=\"61.523438\" xlink:href=\"#DejaVuSans-70\"/>\n      <use x=\"125\" xlink:href=\"#DejaVuSans-6f\"/>\n      <use x=\"186.181641\" xlink:href=\"#DejaVuSans-63\"/>\n      <use x=\"241.162109\" xlink:href=\"#DejaVuSans-68\"/>\n     </g>\n    </g>\n   </g>\n   <g id=\"matplotlib.axis_2\">\n    <g id=\"ytick_1\">\n     <g id=\"line2d_7\">\n      <defs>\n       <path d=\"M 0 0 \nL -3.5 0 \n\" id=\"me929249b8c\" style=\"stroke:#000000;stroke-width:0.8;\"/>\n      </defs>\n      <g>\n       <use style=\"stroke:#000000;stroke-width:0.8;\" x=\"50.14375\" xlink:href=\"#me929249b8c\" y=\"202.808377\"/>\n      </g>\n     </g>\n     <g id=\"text_8\">\n      <!-- 0.47 -->\n      <g transform=\"translate(20.878125 206.607595)scale(0.1 -0.1)\">\n       <defs>\n        <path d=\"M 684 794 \nL 1344 794 \nL 1344 0 \nL 684 0 \nL 684 794 \nz\n\" id=\"DejaVuSans-2e\" transform=\"scale(0.015625)\"/>\n        <path d=\"M 525 4666 \nL 3525 4666 \nL 3525 4397 \nL 1831 0 \nL 1172 0 \nL 2766 4134 \nL 525 4134 \nL 525 4666 \nz\n\" id=\"DejaVuSans-37\" transform=\"scale(0.015625)\"/>\n       </defs>\n       <use xlink:href=\"#DejaVuSans-30\"/>\n       <use x=\"63.623047\" xlink:href=\"#DejaVuSans-2e\"/>\n       <use x=\"95.410156\" xlink:href=\"#DejaVuSans-34\"/>\n       <use x=\"159.033203\" xlink:href=\"#DejaVuSans-37\"/>\n      </g>\n     </g>\n    </g>\n    <g id=\"ytick_2\">\n     <g id=\"line2d_8\">\n      <g>\n       <use style=\"stroke:#000000;stroke-width:0.8;\" x=\"50.14375\" xlink:href=\"#me929249b8c\" y=\"162.277376\"/>\n      </g>\n     </g>\n     <g id=\"text_9\">\n      <!-- 0.48 -->\n      <g transform=\"translate(20.878125 166.076595)scale(0.1 -0.1)\">\n       <use xlink:href=\"#DejaVuSans-30\"/>\n       <use x=\"63.623047\" xlink:href=\"#DejaVuSans-2e\"/>\n       <use x=\"95.410156\" xlink:href=\"#DejaVuSans-34\"/>\n       <use x=\"159.033203\" xlink:href=\"#DejaVuSans-38\"/>\n      </g>\n     </g>\n    </g>\n    <g id=\"ytick_3\">\n     <g id=\"line2d_9\">\n      <g>\n       <use style=\"stroke:#000000;stroke-width:0.8;\" x=\"50.14375\" xlink:href=\"#me929249b8c\" y=\"121.746376\"/>\n      </g>\n     </g>\n     <g id=\"text_10\">\n      <!-- 0.49 -->\n      <g transform=\"translate(20.878125 125.545594)scale(0.1 -0.1)\">\n       <defs>\n        <path d=\"M 703 97 \nL 703 672 \nQ 941 559 1184 500 \nQ 1428 441 1663 441 \nQ 2288 441 2617 861 \nQ 2947 1281 2994 2138 \nQ 2813 1869 2534 1725 \nQ 2256 1581 1919 1581 \nQ 1219 1581 811 2004 \nQ 403 2428 403 3163 \nQ 403 3881 828 4315 \nQ 1253 4750 1959 4750 \nQ 2769 4750 3195 4129 \nQ 3622 3509 3622 2328 \nQ 3622 1225 3098 567 \nQ 2575 -91 1691 -91 \nQ 1453 -91 1209 -44 \nQ 966 3 703 97 \nz\nM 1959 2075 \nQ 2384 2075 2632 2365 \nQ 2881 2656 2881 3163 \nQ 2881 3666 2632 3958 \nQ 2384 4250 1959 4250 \nQ 1534 4250 1286 3958 \nQ 1038 3666 1038 3163 \nQ 1038 2656 1286 2365 \nQ 1534 2075 1959 2075 \nz\n\" id=\"DejaVuSans-39\" transform=\"scale(0.015625)\"/>\n       </defs>\n       <use xlink:href=\"#DejaVuSans-30\"/>\n       <use x=\"63.623047\" xlink:href=\"#DejaVuSans-2e\"/>\n       <use x=\"95.410156\" xlink:href=\"#DejaVuSans-34\"/>\n       <use x=\"159.033203\" xlink:href=\"#DejaVuSans-39\"/>\n      </g>\n     </g>\n    </g>\n    <g id=\"ytick_4\">\n     <g id=\"line2d_10\">\n      <g>\n       <use style=\"stroke:#000000;stroke-width:0.8;\" x=\"50.14375\" xlink:href=\"#me929249b8c\" y=\"81.215375\"/>\n      </g>\n     </g>\n     <g id=\"text_11\">\n      <!-- 0.50 -->\n      <g transform=\"translate(20.878125 85.014594)scale(0.1 -0.1)\">\n       <defs>\n        <path d=\"M 691 4666 \nL 3169 4666 \nL 3169 4134 \nL 1269 4134 \nL 1269 2991 \nQ 1406 3038 1543 3061 \nQ 1681 3084 1819 3084 \nQ 2600 3084 3056 2656 \nQ 3513 2228 3513 1497 \nQ 3513 744 3044 326 \nQ 2575 -91 1722 -91 \nQ 1428 -91 1123 -41 \nQ 819 9 494 109 \nL 494 744 \nQ 775 591 1075 516 \nQ 1375 441 1709 441 \nQ 2250 441 2565 725 \nQ 2881 1009 2881 1497 \nQ 2881 1984 2565 2268 \nQ 2250 2553 1709 2553 \nQ 1456 2553 1204 2497 \nQ 953 2441 691 2322 \nL 691 4666 \nz\n\" id=\"DejaVuSans-35\" transform=\"scale(0.015625)\"/>\n       </defs>\n       <use xlink:href=\"#DejaVuSans-30\"/>\n       <use x=\"63.623047\" xlink:href=\"#DejaVuSans-2e\"/>\n       <use x=\"95.410156\" xlink:href=\"#DejaVuSans-35\"/>\n       <use x=\"159.033203\" xlink:href=\"#DejaVuSans-30\"/>\n      </g>\n     </g>\n    </g>\n    <g id=\"ytick_5\">\n     <g id=\"line2d_11\">\n      <g>\n       <use style=\"stroke:#000000;stroke-width:0.8;\" x=\"50.14375\" xlink:href=\"#me929249b8c\" y=\"40.684375\"/>\n      </g>\n     </g>\n     <g id=\"text_12\">\n      <!-- 0.51 -->\n      <g transform=\"translate(20.878125 44.483594)scale(0.1 -0.1)\">\n       <use xlink:href=\"#DejaVuSans-30\"/>\n       <use x=\"63.623047\" xlink:href=\"#DejaVuSans-2e\"/>\n       <use x=\"95.410156\" xlink:href=\"#DejaVuSans-35\"/>\n       <use x=\"159.033203\" xlink:href=\"#DejaVuSans-31\"/>\n      </g>\n     </g>\n    </g>\n    <g id=\"text_13\">\n     <!-- accuracy -->\n     <g transform=\"translate(14.798438 153.5975)rotate(-90)scale(0.1 -0.1)\">\n      <defs>\n       <path d=\"M 2194 1759 \nQ 1497 1759 1228 1600 \nQ 959 1441 959 1056 \nQ 959 750 1161 570 \nQ 1363 391 1709 391 \nQ 2188 391 2477 730 \nQ 2766 1069 2766 1631 \nL 2766 1759 \nL 2194 1759 \nz\nM 3341 1997 \nL 3341 0 \nL 2766 0 \nL 2766 531 \nQ 2569 213 2275 61 \nQ 1981 -91 1556 -91 \nQ 1019 -91 701 211 \nQ 384 513 384 1019 \nQ 384 1609 779 1909 \nQ 1175 2209 1959 2209 \nL 2766 2209 \nL 2766 2266 \nQ 2766 2663 2505 2880 \nQ 2244 3097 1772 3097 \nQ 1472 3097 1187 3025 \nQ 903 2953 641 2809 \nL 641 3341 \nQ 956 3463 1253 3523 \nQ 1550 3584 1831 3584 \nQ 2591 3584 2966 3190 \nQ 3341 2797 3341 1997 \nz\n\" id=\"DejaVuSans-61\" transform=\"scale(0.015625)\"/>\n       <path d=\"M 544 1381 \nL 544 3500 \nL 1119 3500 \nL 1119 1403 \nQ 1119 906 1312 657 \nQ 1506 409 1894 409 \nQ 2359 409 2629 706 \nQ 2900 1003 2900 1516 \nL 2900 3500 \nL 3475 3500 \nL 3475 0 \nL 2900 0 \nL 2900 538 \nQ 2691 219 2414 64 \nQ 2138 -91 1772 -91 \nQ 1169 -91 856 284 \nQ 544 659 544 1381 \nz\nM 1991 3584 \nL 1991 3584 \nz\n\" id=\"DejaVuSans-75\" transform=\"scale(0.015625)\"/>\n       <path d=\"M 2631 2963 \nQ 2534 3019 2420 3045 \nQ 2306 3072 2169 3072 \nQ 1681 3072 1420 2755 \nQ 1159 2438 1159 1844 \nL 1159 0 \nL 581 0 \nL 581 3500 \nL 1159 3500 \nL 1159 2956 \nQ 1341 3275 1631 3429 \nQ 1922 3584 2338 3584 \nQ 2397 3584 2469 3576 \nQ 2541 3569 2628 3553 \nL 2631 2963 \nz\n\" id=\"DejaVuSans-72\" transform=\"scale(0.015625)\"/>\n       <path d=\"M 2059 -325 \nQ 1816 -950 1584 -1140 \nQ 1353 -1331 966 -1331 \nL 506 -1331 \nL 506 -850 \nL 844 -850 \nQ 1081 -850 1212 -737 \nQ 1344 -625 1503 -206 \nL 1606 56 \nL 191 3500 \nL 800 3500 \nL 1894 763 \nL 2988 3500 \nL 3597 3500 \nL 2059 -325 \nz\n\" id=\"DejaVuSans-79\" transform=\"scale(0.015625)\"/>\n      </defs>\n      <use xlink:href=\"#DejaVuSans-61\"/>\n      <use x=\"61.279297\" xlink:href=\"#DejaVuSans-63\"/>\n      <use x=\"116.259766\" xlink:href=\"#DejaVuSans-63\"/>\n      <use x=\"171.240234\" xlink:href=\"#DejaVuSans-75\"/>\n      <use x=\"234.619141\" xlink:href=\"#DejaVuSans-72\"/>\n      <use x=\"275.732422\" xlink:href=\"#DejaVuSans-61\"/>\n      <use x=\"337.011719\" xlink:href=\"#DejaVuSans-63\"/>\n      <use x=\"391.992188\" xlink:href=\"#DejaVuSans-79\"/>\n     </g>\n    </g>\n   </g>\n   <g id=\"line2d_12\">\n    <path clip-path=\"url(#p2e8742e2e7)\" d=\"M 65.361932 131.038125 \nL 68.436312 131.038125 \nL 71.510692 131.038125 \nL 74.585072 131.038125 \nL 77.659452 131.038125 \nL 80.733833 131.038125 \nL 83.808213 131.038125 \nL 86.882593 131.038125 \nL 89.956973 131.038125 \nL 93.031353 131.038125 \nL 96.105733 131.038125 \nL 99.180114 131.038125 \nL 102.254494 131.038125 \nL 105.328874 131.038125 \nL 108.403254 131.038125 \nL 111.477634 131.038125 \nL 114.552014 131.038125 \nL 117.626395 131.038125 \nL 120.700775 131.038125 \nL 123.775155 131.038125 \nL 126.849535 131.038125 \nL 129.923915 131.038125 \nL 132.998295 131.038125 \nL 136.072676 131.038125 \nL 139.147056 131.038125 \nL 142.221436 131.038125 \nL 145.295816 131.038125 \nL 148.370196 131.038125 \nL 151.444576 131.038125 \nL 154.518957 131.038125 \nL 157.593337 131.038125 \nL 160.667717 131.038125 \nL 163.742097 131.038125 \nL 166.816477 131.038125 \nL 169.890857 131.038125 \nL 172.965238 131.038125 \nL 176.039618 131.038125 \nL 179.113998 131.038125 \nL 182.188378 131.038125 \nL 185.262758 131.038125 \nL 188.337138 131.038125 \nL 191.411519 131.038125 \nL 194.485899 131.038125 \nL 197.560279 131.038125 \nL 200.634659 131.038125 \nL 203.709039 131.038125 \nL 206.783419 131.038125 \nL 209.8578 131.038125 \nL 212.93218 131.038125 \nL 216.00656 131.038125 \nL 219.08094 131.038125 \nL 222.15532 131.038125 \nL 225.2297 131.038125 \nL 228.304081 131.038125 \nL 231.378461 131.038125 \nL 234.452841 131.038125 \nL 237.527221 131.038125 \nL 240.601601 131.038125 \nL 243.675981 131.038125 \nL 246.750362 131.038125 \nL 249.824742 131.038125 \nL 252.899122 131.038125 \nL 255.973502 131.038125 \nL 259.047882 131.038125 \nL 262.122262 131.038125 \nL 265.196643 131.038125 \nL 268.271023 131.038125 \nL 271.345403 131.038125 \nL 274.419783 131.038125 \nL 277.494163 131.038125 \nL 280.568543 131.038125 \nL 283.642924 131.038125 \nL 286.717304 131.038125 \nL 289.791684 131.038125 \nL 292.866064 131.038125 \nL 295.940444 131.038125 \nL 299.014824 131.038125 \nL 302.089205 131.038125 \nL 305.163585 131.038125 \nL 308.237965 131.038125 \nL 311.312345 131.038125 \nL 314.386725 131.038125 \nL 317.461105 131.038125 \nL 320.535486 131.038125 \nL 323.609866 131.038125 \nL 326.684246 131.038125 \nL 329.758626 131.038125 \nL 332.833006 131.038125 \nL 335.907386 131.038125 \nL 338.981767 131.038125 \nL 342.056147 131.038125 \nL 345.130527 131.038125 \nL 348.204907 131.038125 \nL 351.279287 131.038125 \nL 354.353667 131.038125 \nL 357.428048 131.038125 \nL 360.502428 131.038125 \nL 363.576808 131.038125 \nL 366.651188 131.038125 \nL 369.725568 131.038125 \n\" style=\"fill:none;stroke:#1f77b4;stroke-linecap:square;stroke-width:1.5;\"/>\n   </g>\n   <g id=\"patch_3\">\n    <path d=\"M 50.14375 239.758125 \nL 50.14375 22.318125 \n\" style=\"fill:none;stroke:#000000;stroke-linecap:square;stroke-linejoin:miter;stroke-width:0.8;\"/>\n   </g>\n   <g id=\"patch_4\">\n    <path d=\"M 384.94375 239.758125 \nL 384.94375 22.318125 \n\" style=\"fill:none;stroke:#000000;stroke-linecap:square;stroke-linejoin:miter;stroke-width:0.8;\"/>\n   </g>\n   <g id=\"patch_5\">\n    <path d=\"M 50.14375 239.758125 \nL 384.94375 239.758125 \n\" style=\"fill:none;stroke:#000000;stroke-linecap:square;stroke-linejoin:miter;stroke-width:0.8;\"/>\n   </g>\n   <g id=\"patch_6\">\n    <path d=\"M 50.14375 22.318125 \nL 384.94375 22.318125 \n\" style=\"fill:none;stroke:#000000;stroke-linecap:square;stroke-linejoin:miter;stroke-width:0.8;\"/>\n   </g>\n   <g id=\"text_14\">\n    <!-- model accuracy -->\n    <g transform=\"translate(169.882188 16.318125)scale(0.12 -0.12)\">\n     <defs>\n      <path d=\"M 3328 2828 \nQ 3544 3216 3844 3400 \nQ 4144 3584 4550 3584 \nQ 5097 3584 5394 3201 \nQ 5691 2819 5691 2113 \nL 5691 0 \nL 5113 0 \nL 5113 2094 \nQ 5113 2597 4934 2840 \nQ 4756 3084 4391 3084 \nQ 3944 3084 3684 2787 \nQ 3425 2491 3425 1978 \nL 3425 0 \nL 2847 0 \nL 2847 2094 \nQ 2847 2600 2669 2842 \nQ 2491 3084 2119 3084 \nQ 1678 3084 1418 2786 \nQ 1159 2488 1159 1978 \nL 1159 0 \nL 581 0 \nL 581 3500 \nL 1159 3500 \nL 1159 2956 \nQ 1356 3278 1631 3431 \nQ 1906 3584 2284 3584 \nQ 2666 3584 2933 3390 \nQ 3200 3197 3328 2828 \nz\n\" id=\"DejaVuSans-6d\" transform=\"scale(0.015625)\"/>\n      <path d=\"M 2906 2969 \nL 2906 4863 \nL 3481 4863 \nL 3481 0 \nL 2906 0 \nL 2906 525 \nQ 2725 213 2448 61 \nQ 2172 -91 1784 -91 \nQ 1150 -91 751 415 \nQ 353 922 353 1747 \nQ 353 2572 751 3078 \nQ 1150 3584 1784 3584 \nQ 2172 3584 2448 3432 \nQ 2725 3281 2906 2969 \nz\nM 947 1747 \nQ 947 1113 1208 752 \nQ 1469 391 1925 391 \nQ 2381 391 2643 752 \nQ 2906 1113 2906 1747 \nQ 2906 2381 2643 2742 \nQ 2381 3103 1925 3103 \nQ 1469 3103 1208 2742 \nQ 947 2381 947 1747 \nz\n\" id=\"DejaVuSans-64\" transform=\"scale(0.015625)\"/>\n      <path d=\"M 603 4863 \nL 1178 4863 \nL 1178 0 \nL 603 0 \nL 603 4863 \nz\n\" id=\"DejaVuSans-6c\" transform=\"scale(0.015625)\"/>\n      <path id=\"DejaVuSans-20\" transform=\"scale(0.015625)\"/>\n     </defs>\n     <use xlink:href=\"#DejaVuSans-6d\"/>\n     <use x=\"97.412109\" xlink:href=\"#DejaVuSans-6f\"/>\n     <use x=\"158.59375\" xlink:href=\"#DejaVuSans-64\"/>\n     <use x=\"222.070312\" xlink:href=\"#DejaVuSans-65\"/>\n     <use x=\"283.59375\" xlink:href=\"#DejaVuSans-6c\"/>\n     <use x=\"311.376953\" xlink:href=\"#DejaVuSans-20\"/>\n     <use x=\"343.164062\" xlink:href=\"#DejaVuSans-61\"/>\n     <use x=\"404.443359\" xlink:href=\"#DejaVuSans-63\"/>\n     <use x=\"459.423828\" xlink:href=\"#DejaVuSans-63\"/>\n     <use x=\"514.404297\" xlink:href=\"#DejaVuSans-75\"/>\n     <use x=\"577.783203\" xlink:href=\"#DejaVuSans-72\"/>\n     <use x=\"618.896484\" xlink:href=\"#DejaVuSans-61\"/>\n     <use x=\"680.175781\" xlink:href=\"#DejaVuSans-63\"/>\n     <use x=\"735.15625\" xlink:href=\"#DejaVuSans-79\"/>\n    </g>\n   </g>\n  </g>\n </g>\n <defs>\n  <clipPath id=\"p2e8742e2e7\">\n   <rect height=\"217.44\" width=\"334.8\" x=\"50.14375\" y=\"22.318125\"/>\n  </clipPath>\n </defs>\n</svg>\n",
      "image/png": "[encoded data removed]"
     },
     "metadata": {
      "needs_background": "light"
     }
    }
   ],
   "source": [
    "# plot loss and accuracy\n",
    "plt.plot(history.history['accuracy'])\n",
    "plt.title('model accuracy')\n",
    "plt.ylabel('accuracy')\n",
    "plt.xlabel('epoch')\n",
    "plt.show()\n"
   ]
  },
  {
   "cell_type": "code",
   "execution_count": 52,
   "metadata": {},
   "outputs": [
    {
     "output_type": "display_data",
     "data": {
      "text/plain": "<Figure size 432x288 with 1 Axes>",
      "image/svg+xml": "<?xml version=\"1.0\" encoding=\"utf-8\" standalone=\"no\"?>\n<!DOCTYPE svg PUBLIC \"-//W3C//DTD SVG 1.1//EN\"\n  \"http://www.w3.org/Graphics/SVG/1.1/DTD/svg11.dtd\">\n<svg height=\"277.314375pt\" version=\"1.1\" viewBox=\"0 0 385.78125 277.314375\" width=\"385.78125pt\" xmlns=\"http://www.w3.org/2000/svg\" xmlns:xlink=\"http://www.w3.org/1999/xlink\">\n <metadata>\n  <rdf:RDF xmlns:cc=\"http://creativecommons.org/ns#\" xmlns:dc=\"http://purl.org/dc/elements/1.1/\" xmlns:rdf=\"http://www.w3.org/1999/02/22-rdf-syntax-ns#\">\n   <cc:Work>\n    <dc:type rdf:resource=\"http://purl.org/dc/dcmitype/StillImage\"/>\n    <dc:date>2021-05-09T17:07:30.192683</dc:date>\n    <dc:format>image/svg+xml</dc:format>\n    <dc:creator>\n     <cc:Agent>\n      <dc:title>Matplotlib v3.4.0, https://matplotlib.org/</dc:title>\n     </cc:Agent>\n    </dc:creator>\n   </cc:Work>\n  </rdf:RDF>\n </metadata>\n <defs>\n  <style type=\"text/css\">*{stroke-linecap:butt;stroke-linejoin:round;}</style>\n </defs>\n <g id=\"figure_1\">\n  <g id=\"patch_1\">\n   <path d=\"M 0 277.314375 \nL 385.78125 277.314375 \nL 385.78125 0 \nL 0 0 \nz\n\" style=\"fill:none;\"/>\n  </g>\n  <g id=\"axes_1\">\n   <g id=\"patch_2\">\n    <path d=\"M 43.78125 239.758125 \nL 378.58125 239.758125 \nL 378.58125 22.318125 \nL 43.78125 22.318125 \nz\n\" style=\"fill:#ffffff;\"/>\n   </g>\n   <g id=\"matplotlib.axis_1\">\n    <g id=\"xtick_1\">\n     <g id=\"line2d_1\">\n      <defs>\n       <path d=\"M 0 0 \nL 0 3.5 \n\" id=\"m46495219d0\" style=\"stroke:#000000;stroke-width:0.8;\"/>\n      </defs>\n      <g>\n       <use style=\"stroke:#000000;stroke-width:0.8;\" x=\"58.999432\" xlink:href=\"#m46495219d0\" y=\"239.758125\"/>\n      </g>\n     </g>\n     <g id=\"text_1\">\n      <!-- 0 -->\n      <g transform=\"translate(55.818182 254.356562)scale(0.1 -0.1)\">\n       <defs>\n        <path d=\"M 2034 4250 \nQ 1547 4250 1301 3770 \nQ 1056 3291 1056 2328 \nQ 1056 1369 1301 889 \nQ 1547 409 2034 409 \nQ 2525 409 2770 889 \nQ 3016 1369 3016 2328 \nQ 3016 3291 2770 3770 \nQ 2525 4250 2034 4250 \nz\nM 2034 4750 \nQ 2819 4750 3233 4129 \nQ 3647 3509 3647 2328 \nQ 3647 1150 3233 529 \nQ 2819 -91 2034 -91 \nQ 1250 -91 836 529 \nQ 422 1150 422 2328 \nQ 422 3509 836 4129 \nQ 1250 4750 2034 4750 \nz\n\" id=\"DejaVuSans-30\" transform=\"scale(0.015625)\"/>\n       </defs>\n       <use xlink:href=\"#DejaVuSans-30\"/>\n      </g>\n     </g>\n    </g>\n    <g id=\"xtick_2\">\n     <g id=\"line2d_2\">\n      <g>\n       <use style=\"stroke:#000000;stroke-width:0.8;\" x=\"120.487035\" xlink:href=\"#m46495219d0\" y=\"239.758125\"/>\n      </g>\n     </g>\n     <g id=\"text_2\">\n      <!-- 20 -->\n      <g transform=\"translate(114.124535 254.356562)scale(0.1 -0.1)\">\n       <defs>\n        <path d=\"M 1228 531 \nL 3431 531 \nL 3431 0 \nL 469 0 \nL 469 531 \nQ 828 903 1448 1529 \nQ 2069 2156 2228 2338 \nQ 2531 2678 2651 2914 \nQ 2772 3150 2772 3378 \nQ 2772 3750 2511 3984 \nQ 2250 4219 1831 4219 \nQ 1534 4219 1204 4116 \nQ 875 4013 500 3803 \nL 500 4441 \nQ 881 4594 1212 4672 \nQ 1544 4750 1819 4750 \nQ 2544 4750 2975 4387 \nQ 3406 4025 3406 3419 \nQ 3406 3131 3298 2873 \nQ 3191 2616 2906 2266 \nQ 2828 2175 2409 1742 \nQ 1991 1309 1228 531 \nz\n\" id=\"DejaVuSans-32\" transform=\"scale(0.015625)\"/>\n       </defs>\n       <use xlink:href=\"#DejaVuSans-32\"/>\n       <use x=\"63.623047\" xlink:href=\"#DejaVuSans-30\"/>\n      </g>\n     </g>\n    </g>\n    <g id=\"xtick_3\">\n     <g id=\"line2d_3\">\n      <g>\n       <use style=\"stroke:#000000;stroke-width:0.8;\" x=\"181.974638\" xlink:href=\"#m46495219d0\" y=\"239.758125\"/>\n      </g>\n     </g>\n     <g id=\"text_3\">\n      <!-- 40 -->\n      <g transform=\"translate(175.612138 254.356562)scale(0.1 -0.1)\">\n       <defs>\n        <path d=\"M 2419 4116 \nL 825 1625 \nL 2419 1625 \nL 2419 4116 \nz\nM 2253 4666 \nL 3047 4666 \nL 3047 1625 \nL 3713 1625 \nL 3713 1100 \nL 3047 1100 \nL 3047 0 \nL 2419 0 \nL 2419 1100 \nL 313 1100 \nL 313 1709 \nL 2253 4666 \nz\n\" id=\"DejaVuSans-34\" transform=\"scale(0.015625)\"/>\n       </defs>\n       <use xlink:href=\"#DejaVuSans-34\"/>\n       <use x=\"63.623047\" xlink:href=\"#DejaVuSans-30\"/>\n      </g>\n     </g>\n    </g>\n    <g id=\"xtick_4\">\n     <g id=\"line2d_4\">\n      <g>\n       <use style=\"stroke:#000000;stroke-width:0.8;\" x=\"243.462242\" xlink:href=\"#m46495219d0\" y=\"239.758125\"/>\n      </g>\n     </g>\n     <g id=\"text_4\">\n      <!-- 60 -->\n      <g transform=\"translate(237.099742 254.356562)scale(0.1 -0.1)\">\n       <defs>\n        <path d=\"M 2113 2584 \nQ 1688 2584 1439 2293 \nQ 1191 2003 1191 1497 \nQ 1191 994 1439 701 \nQ 1688 409 2113 409 \nQ 2538 409 2786 701 \nQ 3034 994 3034 1497 \nQ 3034 2003 2786 2293 \nQ 2538 2584 2113 2584 \nz\nM 3366 4563 \nL 3366 3988 \nQ 3128 4100 2886 4159 \nQ 2644 4219 2406 4219 \nQ 1781 4219 1451 3797 \nQ 1122 3375 1075 2522 \nQ 1259 2794 1537 2939 \nQ 1816 3084 2150 3084 \nQ 2853 3084 3261 2657 \nQ 3669 2231 3669 1497 \nQ 3669 778 3244 343 \nQ 2819 -91 2113 -91 \nQ 1303 -91 875 529 \nQ 447 1150 447 2328 \nQ 447 3434 972 4092 \nQ 1497 4750 2381 4750 \nQ 2619 4750 2861 4703 \nQ 3103 4656 3366 4563 \nz\n\" id=\"DejaVuSans-36\" transform=\"scale(0.015625)\"/>\n       </defs>\n       <use xlink:href=\"#DejaVuSans-36\"/>\n       <use x=\"63.623047\" xlink:href=\"#DejaVuSans-30\"/>\n      </g>\n     </g>\n    </g>\n    <g id=\"xtick_5\">\n     <g id=\"line2d_5\">\n      <g>\n       <use style=\"stroke:#000000;stroke-width:0.8;\" x=\"304.949845\" xlink:href=\"#m46495219d0\" y=\"239.758125\"/>\n      </g>\n     </g>\n     <g id=\"text_5\">\n      <!-- 80 -->\n      <g transform=\"translate(298.587345 254.356562)scale(0.1 -0.1)\">\n       <defs>\n        <path d=\"M 2034 2216 \nQ 1584 2216 1326 1975 \nQ 1069 1734 1069 1313 \nQ 1069 891 1326 650 \nQ 1584 409 2034 409 \nQ 2484 409 2743 651 \nQ 3003 894 3003 1313 \nQ 3003 1734 2745 1975 \nQ 2488 2216 2034 2216 \nz\nM 1403 2484 \nQ 997 2584 770 2862 \nQ 544 3141 544 3541 \nQ 544 4100 942 4425 \nQ 1341 4750 2034 4750 \nQ 2731 4750 3128 4425 \nQ 3525 4100 3525 3541 \nQ 3525 3141 3298 2862 \nQ 3072 2584 2669 2484 \nQ 3125 2378 3379 2068 \nQ 3634 1759 3634 1313 \nQ 3634 634 3220 271 \nQ 2806 -91 2034 -91 \nQ 1263 -91 848 271 \nQ 434 634 434 1313 \nQ 434 1759 690 2068 \nQ 947 2378 1403 2484 \nz\nM 1172 3481 \nQ 1172 3119 1398 2916 \nQ 1625 2713 2034 2713 \nQ 2441 2713 2670 2916 \nQ 2900 3119 2900 3481 \nQ 2900 3844 2670 4047 \nQ 2441 4250 2034 4250 \nQ 1625 4250 1398 4047 \nQ 1172 3844 1172 3481 \nz\n\" id=\"DejaVuSans-38\" transform=\"scale(0.015625)\"/>\n       </defs>\n       <use xlink:href=\"#DejaVuSans-38\"/>\n       <use x=\"63.623047\" xlink:href=\"#DejaVuSans-30\"/>\n      </g>\n     </g>\n    </g>\n    <g id=\"xtick_6\">\n     <g id=\"line2d_6\">\n      <g>\n       <use style=\"stroke:#000000;stroke-width:0.8;\" x=\"366.437448\" xlink:href=\"#m46495219d0\" y=\"239.758125\"/>\n      </g>\n     </g>\n     <g id=\"text_6\">\n      <!-- 100 -->\n      <g transform=\"translate(356.893698 254.356562)scale(0.1 -0.1)\">\n       <defs>\n        <path d=\"M 794 531 \nL 1825 531 \nL 1825 4091 \nL 703 3866 \nL 703 4441 \nL 1819 4666 \nL 2450 4666 \nL 2450 531 \nL 3481 531 \nL 3481 0 \nL 794 0 \nL 794 531 \nz\n\" id=\"DejaVuSans-31\" transform=\"scale(0.015625)\"/>\n       </defs>\n       <use xlink:href=\"#DejaVuSans-31\"/>\n       <use x=\"63.623047\" xlink:href=\"#DejaVuSans-30\"/>\n       <use x=\"127.246094\" xlink:href=\"#DejaVuSans-30\"/>\n      </g>\n     </g>\n    </g>\n    <g id=\"text_7\">\n     <!-- epoch -->\n     <g transform=\"translate(195.953125 268.034687)scale(0.1 -0.1)\">\n      <defs>\n       <path d=\"M 3597 1894 \nL 3597 1613 \nL 953 1613 \nQ 991 1019 1311 708 \nQ 1631 397 2203 397 \nQ 2534 397 2845 478 \nQ 3156 559 3463 722 \nL 3463 178 \nQ 3153 47 2828 -22 \nQ 2503 -91 2169 -91 \nQ 1331 -91 842 396 \nQ 353 884 353 1716 \nQ 353 2575 817 3079 \nQ 1281 3584 2069 3584 \nQ 2775 3584 3186 3129 \nQ 3597 2675 3597 1894 \nz\nM 3022 2063 \nQ 3016 2534 2758 2815 \nQ 2500 3097 2075 3097 \nQ 1594 3097 1305 2825 \nQ 1016 2553 972 2059 \nL 3022 2063 \nz\n\" id=\"DejaVuSans-65\" transform=\"scale(0.015625)\"/>\n       <path d=\"M 1159 525 \nL 1159 -1331 \nL 581 -1331 \nL 581 3500 \nL 1159 3500 \nL 1159 2969 \nQ 1341 3281 1617 3432 \nQ 1894 3584 2278 3584 \nQ 2916 3584 3314 3078 \nQ 3713 2572 3713 1747 \nQ 3713 922 3314 415 \nQ 2916 -91 2278 -91 \nQ 1894 -91 1617 61 \nQ 1341 213 1159 525 \nz\nM 3116 1747 \nQ 3116 2381 2855 2742 \nQ 2594 3103 2138 3103 \nQ 1681 3103 1420 2742 \nQ 1159 2381 1159 1747 \nQ 1159 1113 1420 752 \nQ 1681 391 2138 391 \nQ 2594 391 2855 752 \nQ 3116 1113 3116 1747 \nz\n\" id=\"DejaVuSans-70\" transform=\"scale(0.015625)\"/>\n       <path d=\"M 1959 3097 \nQ 1497 3097 1228 2736 \nQ 959 2375 959 1747 \nQ 959 1119 1226 758 \nQ 1494 397 1959 397 \nQ 2419 397 2687 759 \nQ 2956 1122 2956 1747 \nQ 2956 2369 2687 2733 \nQ 2419 3097 1959 3097 \nz\nM 1959 3584 \nQ 2709 3584 3137 3096 \nQ 3566 2609 3566 1747 \nQ 3566 888 3137 398 \nQ 2709 -91 1959 -91 \nQ 1206 -91 779 398 \nQ 353 888 353 1747 \nQ 353 2609 779 3096 \nQ 1206 3584 1959 3584 \nz\n\" id=\"DejaVuSans-6f\" transform=\"scale(0.015625)\"/>\n       <path d=\"M 3122 3366 \nL 3122 2828 \nQ 2878 2963 2633 3030 \nQ 2388 3097 2138 3097 \nQ 1578 3097 1268 2742 \nQ 959 2388 959 1747 \nQ 959 1106 1268 751 \nQ 1578 397 2138 397 \nQ 2388 397 2633 464 \nQ 2878 531 3122 666 \nL 3122 134 \nQ 2881 22 2623 -34 \nQ 2366 -91 2075 -91 \nQ 1284 -91 818 406 \nQ 353 903 353 1747 \nQ 353 2603 823 3093 \nQ 1294 3584 2113 3584 \nQ 2378 3584 2631 3529 \nQ 2884 3475 3122 3366 \nz\n\" id=\"DejaVuSans-63\" transform=\"scale(0.015625)\"/>\n       <path d=\"M 3513 2113 \nL 3513 0 \nL 2938 0 \nL 2938 2094 \nQ 2938 2591 2744 2837 \nQ 2550 3084 2163 3084 \nQ 1697 3084 1428 2787 \nQ 1159 2491 1159 1978 \nL 1159 0 \nL 581 0 \nL 581 4863 \nL 1159 4863 \nL 1159 2956 \nQ 1366 3272 1645 3428 \nQ 1925 3584 2291 3584 \nQ 2894 3584 3203 3211 \nQ 3513 2838 3513 2113 \nz\n\" id=\"DejaVuSans-68\" transform=\"scale(0.015625)\"/>\n      </defs>\n      <use xlink:href=\"#DejaVuSans-65\"/>\n      <use x=\"61.523438\" xlink:href=\"#DejaVuSans-70\"/>\n      <use x=\"125\" xlink:href=\"#DejaVuSans-6f\"/>\n      <use x=\"186.181641\" xlink:href=\"#DejaVuSans-63\"/>\n      <use x=\"241.162109\" xlink:href=\"#DejaVuSans-68\"/>\n     </g>\n    </g>\n   </g>\n   <g id=\"matplotlib.axis_2\">\n    <g id=\"ytick_1\">\n     <g id=\"line2d_7\">\n      <defs>\n       <path d=\"M 0 0 \nL -3.5 0 \n\" id=\"md33e17cb25\" style=\"stroke:#000000;stroke-width:0.8;\"/>\n      </defs>\n      <g>\n       <use style=\"stroke:#000000;stroke-width:0.8;\" x=\"43.78125\" xlink:href=\"#md33e17cb25\" y=\"239.308725\"/>\n      </g>\n     </g>\n     <g id=\"text_8\">\n      <!-- 5.8 -->\n      <g transform=\"translate(20.878125 243.107944)scale(0.1 -0.1)\">\n       <defs>\n        <path d=\"M 691 4666 \nL 3169 4666 \nL 3169 4134 \nL 1269 4134 \nL 1269 2991 \nQ 1406 3038 1543 3061 \nQ 1681 3084 1819 3084 \nQ 2600 3084 3056 2656 \nQ 3513 2228 3513 1497 \nQ 3513 744 3044 326 \nQ 2575 -91 1722 -91 \nQ 1428 -91 1123 -41 \nQ 819 9 494 109 \nL 494 744 \nQ 775 591 1075 516 \nQ 1375 441 1709 441 \nQ 2250 441 2565 725 \nQ 2881 1009 2881 1497 \nQ 2881 1984 2565 2268 \nQ 2250 2553 1709 2553 \nQ 1456 2553 1204 2497 \nQ 953 2441 691 2322 \nL 691 4666 \nz\n\" id=\"DejaVuSans-35\" transform=\"scale(0.015625)\"/>\n        <path d=\"M 684 794 \nL 1344 794 \nL 1344 0 \nL 684 0 \nL 684 794 \nz\n\" id=\"DejaVuSans-2e\" transform=\"scale(0.015625)\"/>\n       </defs>\n       <use xlink:href=\"#DejaVuSans-35\"/>\n       <use x=\"63.623047\" xlink:href=\"#DejaVuSans-2e\"/>\n       <use x=\"95.410156\" xlink:href=\"#DejaVuSans-38\"/>\n      </g>\n     </g>\n    </g>\n    <g id=\"ytick_2\">\n     <g id=\"line2d_8\">\n      <g>\n       <use style=\"stroke:#000000;stroke-width:0.8;\" x=\"43.78125\" xlink:href=\"#md33e17cb25\" y=\"201.622384\"/>\n      </g>\n     </g>\n     <g id=\"text_9\">\n      <!-- 6.0 -->\n      <g transform=\"translate(20.878125 205.421602)scale(0.1 -0.1)\">\n       <use xlink:href=\"#DejaVuSans-36\"/>\n       <use x=\"63.623047\" xlink:href=\"#DejaVuSans-2e\"/>\n       <use x=\"95.410156\" xlink:href=\"#DejaVuSans-30\"/>\n      </g>\n     </g>\n    </g>\n    <g id=\"ytick_3\">\n     <g id=\"line2d_9\">\n      <g>\n       <use style=\"stroke:#000000;stroke-width:0.8;\" x=\"43.78125\" xlink:href=\"#md33e17cb25\" y=\"163.936042\"/>\n      </g>\n     </g>\n     <g id=\"text_10\">\n      <!-- 6.2 -->\n      <g transform=\"translate(20.878125 167.735261)scale(0.1 -0.1)\">\n       <use xlink:href=\"#DejaVuSans-36\"/>\n       <use x=\"63.623047\" xlink:href=\"#DejaVuSans-2e\"/>\n       <use x=\"95.410156\" xlink:href=\"#DejaVuSans-32\"/>\n      </g>\n     </g>\n    </g>\n    <g id=\"ytick_4\">\n     <g id=\"line2d_10\">\n      <g>\n       <use style=\"stroke:#000000;stroke-width:0.8;\" x=\"43.78125\" xlink:href=\"#md33e17cb25\" y=\"126.249701\"/>\n      </g>\n     </g>\n     <g id=\"text_11\">\n      <!-- 6.4 -->\n      <g transform=\"translate(20.878125 130.04892)scale(0.1 -0.1)\">\n       <use xlink:href=\"#DejaVuSans-36\"/>\n       <use x=\"63.623047\" xlink:href=\"#DejaVuSans-2e\"/>\n       <use x=\"95.410156\" xlink:href=\"#DejaVuSans-34\"/>\n      </g>\n     </g>\n    </g>\n    <g id=\"ytick_5\">\n     <g id=\"line2d_11\">\n      <g>\n       <use style=\"stroke:#000000;stroke-width:0.8;\" x=\"43.78125\" xlink:href=\"#md33e17cb25\" y=\"88.563359\"/>\n      </g>\n     </g>\n     <g id=\"text_12\">\n      <!-- 6.6 -->\n      <g transform=\"translate(20.878125 92.362578)scale(0.1 -0.1)\">\n       <use xlink:href=\"#DejaVuSans-36\"/>\n       <use x=\"63.623047\" xlink:href=\"#DejaVuSans-2e\"/>\n       <use x=\"95.410156\" xlink:href=\"#DejaVuSans-36\"/>\n      </g>\n     </g>\n    </g>\n    <g id=\"ytick_6\">\n     <g id=\"line2d_12\">\n      <g>\n       <use style=\"stroke:#000000;stroke-width:0.8;\" x=\"43.78125\" xlink:href=\"#md33e17cb25\" y=\"50.877018\"/>\n      </g>\n     </g>\n     <g id=\"text_13\">\n      <!-- 6.8 -->\n      <g transform=\"translate(20.878125 54.676237)scale(0.1 -0.1)\">\n       <use xlink:href=\"#DejaVuSans-36\"/>\n       <use x=\"63.623047\" xlink:href=\"#DejaVuSans-2e\"/>\n       <use x=\"95.410156\" xlink:href=\"#DejaVuSans-38\"/>\n      </g>\n     </g>\n    </g>\n    <g id=\"text_14\">\n     <!-- loss -->\n     <g transform=\"translate(14.798438 140.695937)rotate(-90)scale(0.1 -0.1)\">\n      <defs>\n       <path d=\"M 603 4863 \nL 1178 4863 \nL 1178 0 \nL 603 0 \nL 603 4863 \nz\n\" id=\"DejaVuSans-6c\" transform=\"scale(0.015625)\"/>\n       <path d=\"M 2834 3397 \nL 2834 2853 \nQ 2591 2978 2328 3040 \nQ 2066 3103 1784 3103 \nQ 1356 3103 1142 2972 \nQ 928 2841 928 2578 \nQ 928 2378 1081 2264 \nQ 1234 2150 1697 2047 \nL 1894 2003 \nQ 2506 1872 2764 1633 \nQ 3022 1394 3022 966 \nQ 3022 478 2636 193 \nQ 2250 -91 1575 -91 \nQ 1294 -91 989 -36 \nQ 684 19 347 128 \nL 347 722 \nQ 666 556 975 473 \nQ 1284 391 1588 391 \nQ 1994 391 2212 530 \nQ 2431 669 2431 922 \nQ 2431 1156 2273 1281 \nQ 2116 1406 1581 1522 \nL 1381 1569 \nQ 847 1681 609 1914 \nQ 372 2147 372 2553 \nQ 372 3047 722 3315 \nQ 1072 3584 1716 3584 \nQ 2034 3584 2315 3537 \nQ 2597 3491 2834 3397 \nz\n\" id=\"DejaVuSans-73\" transform=\"scale(0.015625)\"/>\n      </defs>\n      <use xlink:href=\"#DejaVuSans-6c\"/>\n      <use x=\"27.783203\" xlink:href=\"#DejaVuSans-6f\"/>\n      <use x=\"88.964844\" xlink:href=\"#DejaVuSans-73\"/>\n      <use x=\"141.064453\" xlink:href=\"#DejaVuSans-73\"/>\n     </g>\n    </g>\n    <g id=\"text_15\">\n     <!-- 1e−5+7.6126000000 -->\n     <g transform=\"translate(43.78125 19.318125)scale(0.1 -0.1)\">\n      <defs>\n       <path d=\"M 678 2272 \nL 4684 2272 \nL 4684 1741 \nL 678 1741 \nL 678 2272 \nz\n\" id=\"DejaVuSans-2212\" transform=\"scale(0.015625)\"/>\n       <path d=\"M 2944 4013 \nL 2944 2272 \nL 4684 2272 \nL 4684 1741 \nL 2944 1741 \nL 2944 0 \nL 2419 0 \nL 2419 1741 \nL 678 1741 \nL 678 2272 \nL 2419 2272 \nL 2419 4013 \nL 2944 4013 \nz\n\" id=\"DejaVuSans-2b\" transform=\"scale(0.015625)\"/>\n       <path d=\"M 525 4666 \nL 3525 4666 \nL 3525 4397 \nL 1831 0 \nL 1172 0 \nL 2766 4134 \nL 525 4134 \nL 525 4666 \nz\n\" id=\"DejaVuSans-37\" transform=\"scale(0.015625)\"/>\n      </defs>\n      <use xlink:href=\"#DejaVuSans-31\"/>\n      <use x=\"63.623047\" xlink:href=\"#DejaVuSans-65\"/>\n      <use x=\"125.146484\" xlink:href=\"#DejaVuSans-2212\"/>\n      <use x=\"208.935547\" xlink:href=\"#DejaVuSans-35\"/>\n      <use x=\"272.558594\" xlink:href=\"#DejaVuSans-2b\"/>\n      <use x=\"356.347656\" xlink:href=\"#DejaVuSans-37\"/>\n      <use x=\"419.970703\" xlink:href=\"#DejaVuSans-2e\"/>\n      <use x=\"451.757812\" xlink:href=\"#DejaVuSans-36\"/>\n      <use x=\"515.380859\" xlink:href=\"#DejaVuSans-31\"/>\n      <use x=\"579.003906\" xlink:href=\"#DejaVuSans-32\"/>\n      <use x=\"642.626953\" xlink:href=\"#DejaVuSans-36\"/>\n      <use x=\"706.25\" xlink:href=\"#DejaVuSans-30\"/>\n      <use x=\"769.873047\" xlink:href=\"#DejaVuSans-30\"/>\n      <use x=\"833.496094\" xlink:href=\"#DejaVuSans-30\"/>\n      <use x=\"897.119141\" xlink:href=\"#DejaVuSans-30\"/>\n      <use x=\"960.742188\" xlink:href=\"#DejaVuSans-30\"/>\n      <use x=\"1024.365234\" xlink:href=\"#DejaVuSans-30\"/>\n     </g>\n    </g>\n   </g>\n   <g id=\"line2d_13\">\n    <path clip-path=\"url(#pf341272a5f)\" d=\"M 58.999432 104.082753 \nL 62.073812 113.067877 \nL 65.148192 193.933993 \nL 68.222572 77.127381 \nL 71.296952 184.948869 \nL 74.371333 175.963745 \nL 77.445713 166.978621 \nL 80.520093 104.082753 \nL 83.594473 104.082753 \nL 86.668853 68.142257 \nL 89.743233 86.112505 \nL 92.817614 59.157133 \nL 95.891994 157.993497 \nL 98.966374 193.933993 \nL 102.040754 77.127381 \nL 105.115134 59.157133 \nL 108.189514 104.082753 \nL 111.263895 122.053001 \nL 114.338275 220.889365 \nL 117.412655 41.186885 \nL 120.487035 131.038125 \nL 123.561415 157.993497 \nL 126.635795 104.082753 \nL 129.710176 113.067877 \nL 132.784556 149.008373 \nL 135.858936 113.067877 \nL 138.933316 211.904241 \nL 142.007696 86.112505 \nL 145.082076 131.038125 \nL 148.156457 131.038125 \nL 151.230837 122.053001 \nL 154.305217 113.067877 \nL 157.379597 184.948869 \nL 160.453977 68.142257 \nL 163.528357 86.112505 \nL 166.602738 122.053001 \nL 169.677118 193.933993 \nL 172.751498 41.186885 \nL 175.825878 104.082753 \nL 178.900258 211.904241 \nL 181.974638 166.978621 \nL 185.049019 122.053001 \nL 188.123399 140.023249 \nL 191.197779 50.172009 \nL 194.272159 157.993497 \nL 197.346539 68.142257 \nL 200.420919 50.172009 \nL 203.4953 32.201761 \nL 206.56968 77.127381 \nL 209.64406 131.038125 \nL 212.71844 229.874489 \nL 215.79282 86.112505 \nL 218.8672 122.053001 \nL 221.941581 140.023249 \nL 225.015961 140.023249 \nL 228.090341 166.978621 \nL 231.164721 149.008373 \nL 234.239101 149.008373 \nL 237.313481 122.053001 \nL 240.387862 122.053001 \nL 243.462242 113.067877 \nL 246.536622 157.993497 \nL 249.611002 68.142257 \nL 252.685382 68.142257 \nL 255.759762 104.082753 \nL 258.834143 68.142257 \nL 261.908523 157.993497 \nL 264.982903 122.053001 \nL 268.057283 104.082753 \nL 271.131663 113.067877 \nL 274.206043 157.993497 \nL 277.280424 140.023249 \nL 280.354804 113.067877 \nL 283.429184 157.993497 \nL 286.503564 77.127381 \nL 289.577944 157.993497 \nL 292.652324 175.963745 \nL 295.726705 157.993497 \nL 298.801085 149.008373 \nL 301.875465 104.082753 \nL 304.949845 77.127381 \nL 308.024225 86.112505 \nL 311.098605 131.038125 \nL 314.172986 140.023249 \nL 317.247366 193.933993 \nL 320.321746 131.038125 \nL 323.396126 140.023249 \nL 326.470506 131.038125 \nL 329.544886 131.038125 \nL 332.619267 211.904241 \nL 335.693647 59.157133 \nL 338.768027 175.963745 \nL 341.842407 149.008373 \nL 344.916787 157.993497 \nL 347.991167 50.172009 \nL 351.065548 68.142257 \nL 354.139928 175.963745 \nL 357.214308 131.038125 \nL 360.288688 157.993497 \nL 363.363068 86.112505 \n\" style=\"fill:none;stroke:#1f77b4;stroke-linecap:square;stroke-width:1.5;\"/>\n   </g>\n   <g id=\"patch_3\">\n    <path d=\"M 43.78125 239.758125 \nL 43.78125 22.318125 \n\" style=\"fill:none;stroke:#000000;stroke-linecap:square;stroke-linejoin:miter;stroke-width:0.8;\"/>\n   </g>\n   <g id=\"patch_4\">\n    <path d=\"M 378.58125 239.758125 \nL 378.58125 22.318125 \n\" style=\"fill:none;stroke:#000000;stroke-linecap:square;stroke-linejoin:miter;stroke-width:0.8;\"/>\n   </g>\n   <g id=\"patch_5\">\n    <path d=\"M 43.78125 239.758125 \nL 378.58125 239.758125 \n\" style=\"fill:none;stroke:#000000;stroke-linecap:square;stroke-linejoin:miter;stroke-width:0.8;\"/>\n   </g>\n   <g id=\"patch_6\">\n    <path d=\"M 43.78125 22.318125 \nL 378.58125 22.318125 \n\" style=\"fill:none;stroke:#000000;stroke-linecap:square;stroke-linejoin:miter;stroke-width:0.8;\"/>\n   </g>\n   <g id=\"text_16\">\n    <!-- model loss -->\n    <g transform=\"translate(179.001563 16.318125)scale(0.12 -0.12)\">\n     <defs>\n      <path d=\"M 3328 2828 \nQ 3544 3216 3844 3400 \nQ 4144 3584 4550 3584 \nQ 5097 3584 5394 3201 \nQ 5691 2819 5691 2113 \nL 5691 0 \nL 5113 0 \nL 5113 2094 \nQ 5113 2597 4934 2840 \nQ 4756 3084 4391 3084 \nQ 3944 3084 3684 2787 \nQ 3425 2491 3425 1978 \nL 3425 0 \nL 2847 0 \nL 2847 2094 \nQ 2847 2600 2669 2842 \nQ 2491 3084 2119 3084 \nQ 1678 3084 1418 2786 \nQ 1159 2488 1159 1978 \nL 1159 0 \nL 581 0 \nL 581 3500 \nL 1159 3500 \nL 1159 2956 \nQ 1356 3278 1631 3431 \nQ 1906 3584 2284 3584 \nQ 2666 3584 2933 3390 \nQ 3200 3197 3328 2828 \nz\n\" id=\"DejaVuSans-6d\" transform=\"scale(0.015625)\"/>\n      <path d=\"M 2906 2969 \nL 2906 4863 \nL 3481 4863 \nL 3481 0 \nL 2906 0 \nL 2906 525 \nQ 2725 213 2448 61 \nQ 2172 -91 1784 -91 \nQ 1150 -91 751 415 \nQ 353 922 353 1747 \nQ 353 2572 751 3078 \nQ 1150 3584 1784 3584 \nQ 2172 3584 2448 3432 \nQ 2725 3281 2906 2969 \nz\nM 947 1747 \nQ 947 1113 1208 752 \nQ 1469 391 1925 391 \nQ 2381 391 2643 752 \nQ 2906 1113 2906 1747 \nQ 2906 2381 2643 2742 \nQ 2381 3103 1925 3103 \nQ 1469 3103 1208 2742 \nQ 947 2381 947 1747 \nz\n\" id=\"DejaVuSans-64\" transform=\"scale(0.015625)\"/>\n      <path id=\"DejaVuSans-20\" transform=\"scale(0.015625)\"/>\n     </defs>\n     <use xlink:href=\"#DejaVuSans-6d\"/>\n     <use x=\"97.412109\" xlink:href=\"#DejaVuSans-6f\"/>\n     <use x=\"158.59375\" xlink:href=\"#DejaVuSans-64\"/>\n     <use x=\"222.070312\" xlink:href=\"#DejaVuSans-65\"/>\n     <use x=\"283.59375\" xlink:href=\"#DejaVuSans-6c\"/>\n     <use x=\"311.376953\" xlink:href=\"#DejaVuSans-20\"/>\n     <use x=\"343.164062\" xlink:href=\"#DejaVuSans-6c\"/>\n     <use x=\"370.947266\" xlink:href=\"#DejaVuSans-6f\"/>\n     <use x=\"432.128906\" xlink:href=\"#DejaVuSans-73\"/>\n     <use x=\"484.228516\" xlink:href=\"#DejaVuSans-73\"/>\n    </g>\n   </g>\n  </g>\n </g>\n <defs>\n  <clipPath id=\"pf341272a5f\">\n   <rect height=\"217.44\" width=\"334.8\" x=\"43.78125\" y=\"22.318125\"/>\n  </clipPath>\n </defs>\n</svg>\n",
      "image/png": "[encoded data removed]"
     },
     "metadata": {
      "needs_background": "light"
     }
    }
   ],
   "source": [
    "# plot loss and accuracy\n",
    "plt.plot(history.history['loss'])\n",
    "plt.title('model loss')\n",
    "plt.ylabel('loss')\n",
    "plt.xlabel('epoch')\n",
    "plt.show()"
   ]
  },
  {
   "source": [
    "# Predict the stock"
   ],
   "cell_type": "markdown",
   "metadata": {}
  },
  {
   "cell_type": "code",
   "execution_count": null,
   "metadata": {},
   "outputs": [],
   "source": []
  },
  {
   "cell_type": "code",
   "execution_count": null,
   "metadata": {},
   "outputs": [],
   "source": []
  }
 ]
}